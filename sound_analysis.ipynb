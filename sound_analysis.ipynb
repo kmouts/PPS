{
  "nbformat": 4,
  "nbformat_minor": 0,
  "metadata": {
    "colab": {
      "name": "sound_analysis.ipynb",
      "provenance": [],
      "collapsed_sections": [],
      "toc_visible": true,
      "authorship_tag": "ABX9TyPdk45ex5fzJE4T7pQmJ++V",
      "include_colab_link": true
    },
    "kernelspec": {
      "name": "python3",
      "display_name": "Python 3"
    }
  },
  "cells": [
    {
      "cell_type": "markdown",
      "metadata": {
        "id": "view-in-github",
        "colab_type": "text"
      },
      "source": [
        "<a href=\"https://colab.research.google.com/github/kmouts/PPS_MultiComms/blob/master/sound_analysis.ipynb\" target=\"_parent\"><img src=\"https://colab.research.google.com/assets/colab-badge.svg\" alt=\"Open In Colab\"/></a>"
      ]
    },
    {
      "cell_type": "markdown",
      "metadata": {
        "id": "RA8u39O-wWfq",
        "colab_type": "text"
      },
      "source": [
        "# Ανάλυση Ήχου\n",
        "\n",
        "Στο εργαστήριο αυτό θα ασχοληθούμε την Ανάλυση Ήχου, χρησιμοποιώντας μια νέα βιβλιοθήκη Python: **pyAudioAnalysis** [https://github.com/tyiannak/pyAudioAnalysis]. "
      ]
    },
    {
      "cell_type": "code",
      "metadata": {
        "id": "QDsaGSv-x0A3",
        "colab_type": "code",
        "outputId": "cce4e7bb-cd11-49c8-a3eb-d86e730ef34b",
        "colab": {
          "base_uri": "https://localhost:8080/",
          "height": 35
        }
      },
      "source": [
        "!git clone https://github.com/tyiannak/pyAudioAnalysis.git\n",
        "!pip install -q -r pyAudioAnalysis/requirements.txt\n",
        "!pip install -q -e pyAudioAnalysis/."
      ],
      "execution_count": 0,
      "outputs": [
        {
          "output_type": "stream",
          "text": [
            "fatal: destination path 'pyAudioAnalysis' already exists and is not an empty directory.\n"
          ],
          "name": "stdout"
        }
      ]
    },
    {
      "cell_type": "markdown",
      "metadata": {
        "id": "ehkRphoezcKt",
        "colab_type": "text"
      },
      "source": [
        "## Εξαγωγή χαρακτηριστικών"
      ]
    },
    {
      "cell_type": "markdown",
      "metadata": {
        "id": "h_JwQTrwDwp9",
        "colab_type": "text"
      },
      "source": [
        "Υπάρχουν δύο στάδια στην μεθοδολογία εξαγωγής ηχητικών χαρακτηριστικών:\n",
        "\n",
        "\n",
        "*   Εξαγωγή χαρακτηριστικών Μικρής Διάρκειας (Short-term): Γίνεται με τη χρήση της συνάρτησης `feature_extraction()` από το αρχείο `ShortTermFeatures.py`. Χωρίζει το εισαγόμενο σήμα σε μικρά χρονικά παράθυρα (frames) και υπολογίζει κάποια χαρακτηριστικά για το κάθε παράθυρο. Αυτή η διαδικασία οδηγεί σε μια σειρά από λίστες χαρακτηριστικών για όλο το σήμα\n",
        "*   Εξαγωγή χαρακτηριστικών Μέσης Διάρκειας (Mid-term): Σε πολλές περιπτώσεις το σήμα αντιπροσωπεύεται από στατιστικές των χαρακτηριστικών μικρής διάρκειας. Η συνάρτηση `mid_feature_extraction()` από το αρχείο `MidTermFeatures.py` εξάγει στατιστικές (πχ μέση τιμή και τυπική απόκλιση) σε κάθε σειρά χαρακτηριστικών μικρής διάρκειας.\n"
      ]
    },
    {
      "cell_type": "markdown",
      "metadata": {
        "id": "BgQIg11pzqbi",
        "colab_type": "text"
      },
      "source": [
        "Το pyAudioAnalysis υποστηρίζει την εξαγωγή 34 χαρακτηριστικών (features) από αρχεία ήχου. Ας δούμε 2 από αυτά: **Zero Crossing Rate - ZCR** (The rate of sign-changes of the signal during the duration of a particular frame) και **Energy** (The sum of squares of the signal values, normalized by the respective frame length)."
      ]
    },
    {
      "cell_type": "code",
      "metadata": {
        "id": "ltPu4m212sa3",
        "colab_type": "code",
        "colab": {}
      },
      "source": [
        "!apt-get install -qq ffmpeg\n",
        "!apt-get install -qq python3-magic\n",
        "!pip install -q python-magic"
      ],
      "execution_count": 0,
      "outputs": []
    },
    {
      "cell_type": "code",
      "metadata": {
        "id": "UN6K8WDyHrk4",
        "colab_type": "code",
        "colab": {}
      },
      "source": [
        "import sys\n",
        "sys.path.append('/content/pyAudioAnalysis')"
      ],
      "execution_count": 0,
      "outputs": []
    },
    {
      "cell_type": "code",
      "metadata": {
        "id": "1z2tFXvM4-kY",
        "colab_type": "code",
        "colab": {}
      },
      "source": [
        "from pyAudioAnalysis import audioBasicIO\n",
        "from pyAudioAnalysis import ShortTermFeatures\n",
        "import matplotlib.pyplot as plt"
      ],
      "execution_count": 0,
      "outputs": []
    },
    {
      "cell_type": "markdown",
      "metadata": {
        "id": "wwL7_rGfOYKU",
        "colab_type": "text"
      },
      "source": [
        "\n",
        "Για να διαβαστούν τα ηχητικά δείγματα καλούμε τη συνάρτηση `read_audio_file()` από το αρχείο `audioBasicIO.py`.\n",
        "\n"
      ]
    },
    {
      "cell_type": "code",
      "metadata": {
        "id": "r6LKS9BWOgH4",
        "colab_type": "code",
        "colab": {}
      },
      "source": [
        "[Fs, x] = audioBasicIO.read_audio_file(\"pyAudioAnalysis/pyAudioAnalysis/data/doremi.wav\")"
      ],
      "execution_count": 0,
      "outputs": []
    },
    {
      "cell_type": "code",
      "metadata": {
        "id": "gBD0kabrORhY",
        "colab_type": "code",
        "outputId": "f5c2e69d-b440-4917-f9b9-b43200da1458",
        "colab": {
          "base_uri": "https://localhost:8080/",
          "height": 265
        }
      },
      "source": [
        "# Διάγραμμα με την κυματομορφή\n",
        "import numpy\n",
        "timeX = numpy.arange(0, x.shape[0] / float(Fs), 1.0 / Fs)\n",
        "plt.plot(timeX, x)\n",
        "plt.show()"
      ],
      "execution_count": 0,
      "outputs": [
        {
          "output_type": "display_data",
          "data": {
            "image/png": "[encoded data removed]",
            "text/plain": [
              "<Figure size 432x288 with 1 Axes>"
            ]
          },
          "metadata": {
            "tags": [],
            "needs_background": "light"
          }
        }
      ]
    },
    {
      "cell_type": "markdown",
      "metadata": {
        "id": "oki8WE7j89ad",
        "colab_type": "text"
      },
      "source": [
        "Ο  επόμενος κώδικας χρησιμοποιεί τη συνάρτηση `feature_extraction()` από το αρχείο `ShortTermFeatures.py` για την εξαγωγή χαρακτηριστικών μικρής διάρκειας ενός ηχητικού σήματος. Θέτουμε χρονικό παράθυρο (frame) 50 msecs και βήμα 25 msecs (με 50% επικάλυψη)."
      ]
    },
    {
      "cell_type": "code",
      "metadata": {
        "id": "cN2NHOZd5mtb",
        "colab_type": "code",
        "outputId": "29234b38-6b15-4ed8-9b42-376710018e37",
        "colab": {
          "base_uri": "https://localhost:8080/",
          "height": 279
        }
      },
      "source": [
        "F, f_names = ShortTermFeatures.feature_extraction(x, Fs, 0.050*Fs, 0.025*Fs)\n",
        "plt.subplot(2,1,1); plt.plot(F[0,:]); plt.xlabel('Frame no'); plt.ylabel(f_names[0]) \n",
        "plt.subplot(2,1,2); plt.plot(F[1,:]); plt.xlabel('Frame no'); plt.ylabel(f_names[1]); plt.show()"
      ],
      "execution_count": 0,
      "outputs": [
        {
          "output_type": "display_data",
          "data": {
            "image/png": "[encoded data removed]",
            "text/plain": [
              "<Figure size 432x288 with 2 Axes>"
            ]
          },
          "metadata": {
            "tags": [],
            "needs_background": "light"
          }
        }
      ]
    },
    {
      "cell_type": "markdown",
      "metadata": {
        "id": "69rgT0Lv79IY",
        "colab_type": "text"
      },
      "source": [
        "O παραπάνω κώδικας επίσης κάνει το διάγραμμα σειράς των δύο πρώτων χαρακτηριστικών: `zero crossing rate` και `signal energy`. Η συνάρτηση `feature_extraction()` επιστρέφει έναν πίνακα numpy  με 34 γραμμές και  N στήλες, όπου N το πλήθος των short-term frames που χωράνε στην εγγραφή του ήχου."
      ]
    },
    {
      "cell_type": "markdown",
      "metadata": {
        "id": "o3cag-_LHKNP",
        "colab_type": "text"
      },
      "source": [
        "## Οπτική Ανάλυση του Ήχου"
      ]
    },
    {
      "cell_type": "markdown",
      "metadata": {
        "id": "Rup_OWznIVHh",
        "colab_type": "text"
      },
      "source": [
        "### Φασματικό Διάγραμμα"
      ]
    },
    {
      "cell_type": "code",
      "metadata": {
        "id": "VWoK3Ga8LPQJ",
        "colab_type": "code",
        "outputId": "b967a008-9b73-4f89-b72b-8c300bdcae34",
        "colab": {
          "base_uri": "https://localhost:8080/",
          "height": 283
        }
      },
      "source": [
        "[fs, x] = audioBasicIO.read_audio_file(\"pyAudioAnalysis/pyAudioAnalysis/data/doremi.wav\")\n",
        "x = audioBasicIO.stereo_to_mono(x)\n",
        "specgram, TimeAxis, FreqAxis = ShortTermFeatures.spectrogram(x, fs, round(fs * 0.040),round(fs * 0.040), True)"
      ],
      "execution_count": 0,
      "outputs": [
        {
          "output_type": "display_data",
          "data": {
            "image/png": "[encoded data removed]",
            "text/plain": [
              "<Figure size 432x288 with 2 Axes>"
            ]
          },
          "metadata": {
            "tags": [],
            "needs_background": "light"
          }
        }
      ]
    },
    {
      "cell_type": "markdown",
      "metadata": {
        "id": "AOEJsbLLMq2T",
        "colab_type": "text"
      },
      "source": [
        "### Χρωματικό Διάγραμμα"
      ]
    },
    {
      "cell_type": "code",
      "metadata": {
        "id": "wqcAJk0yMuLe",
        "colab_type": "code",
        "outputId": "856a0873-165e-4eb2-aa16-2d6464a5e06a",
        "colab": {
          "base_uri": "https://localhost:8080/",
          "height": 254
        }
      },
      "source": [
        "specgram, TimeAxis, FreqAxis = ShortTermFeatures.chromagram(x, fs, round(fs * 0.040),\n",
        "                                                 round(fs * 0.040), True)"
      ],
      "execution_count": 0,
      "outputs": [
        {
          "output_type": "display_data",
          "data": {
            "image/png": "[encoded data removed]",
            "text/plain": [
              "<Figure size 432x288 with 2 Axes>"
            ]
          },
          "metadata": {
            "tags": [],
            "needs_background": "light"
          }
        }
      ]
    },
    {
      "cell_type": "markdown",
      "metadata": {
        "id": "dr77Zz6RMjKr",
        "colab_type": "text"
      },
      "source": [
        "## Εκπαίδευση ενός Ταξινομητή Ήχου\n"
      ]
    },
    {
      "cell_type": "markdown",
      "metadata": {
        "id": "ugspvSM5QCM3",
        "colab_type": "text"
      },
      "source": [
        "Στην συνέχεια θα εκπαιδεύσουμε έναν ταξινομητή που χρησιμοποιεί Cross-Validation για να διαλέξει την βέλτιστη παράμετρο για τον ταξινομητή (πχ τη παράμετρο soft margin C για SVM, το πλήθος των δέντρων για Random Forests, ο αριθμός των γειτόνων k για Knn κλπ.) Το παραγόμενο μοντέλο σώζεται στη θέση που ορίζουμε με την παράμετρο –o."
      ]
    },
    {
      "cell_type": "markdown",
      "metadata": {
        "id": "Z_D6UXRgYHog",
        "colab_type": "text"
      },
      "source": [
        "Πρώτα όμως ας φορτώσουμε τα αρχεία εκπαίδευσης, και τα αρχεία για το τελικό τέστ."
      ]
    },
    {
      "cell_type": "code",
      "metadata": {
        "id": "hzjC4k8FQJi_",
        "colab_type": "code",
        "colab": {}
      },
      "source": [
        "import requests, zipfile, io\n",
        "\n",
        "r = requests.get( 'https://github.com/kmouts/PPS_MultiComms/blob/master/AudioAnaysisData.zip?raw=true' ) \n",
        "z = zipfile.ZipFile(io.BytesIO(r.content))\n",
        "z.extractall()"
      ],
      "execution_count": 0,
      "outputs": []
    },
    {
      "cell_type": "code",
      "metadata": {
        "id": "mYjb4GeV6dKT",
        "colab_type": "code",
        "outputId": "47f56a1c-1e4e-4f90-df42-f150cb0f293c",
        "colab": {
          "base_uri": "https://localhost:8080/",
          "height": 90
        }
      },
      "source": [
        "ls sampleData/"
      ],
      "execution_count": 0,
      "outputs": [
        {
          "output_type": "stream",
          "text": [
            "'Cat --- cat_11.wav'   'Cat --- cat_15.wav'      'Dog --- barking_14.wav'\n",
            "'Cat --- cat_12.wav'   'Dog --- barking_11.wav'  'Dog --- barking_15.wav'\n",
            "'Cat ---  cat_13.wav'  'Dog --- barking_12.wav'\n",
            "'Cat --- cat_14.wav'   'Dog --- barking_13.wav'\n"
          ],
          "name": "stdout"
        }
      ]
    },
    {
      "cell_type": "code",
      "metadata": {
        "id": "dUPJZaOJYVJi",
        "colab_type": "code",
        "outputId": "ab12bdac-b9cd-4800-c406-ab00895ec381",
        "colab": {
          "base_uri": "https://localhost:8080/",
          "height": 35
        }
      },
      "source": [
        "ls trainingData/"
      ],
      "execution_count": 0,
      "outputs": [
        {
          "output_type": "stream",
          "text": [
            "\u001b[0m\u001b[01;34mcat\u001b[0m/  \u001b[01;34mdog\u001b[0m/\n"
          ],
          "name": "stdout"
        }
      ]
    },
    {
      "cell_type": "code",
      "metadata": {
        "id": "E_4QqI4dOPD4",
        "colab_type": "code",
        "colab": {}
      },
      "source": [
        "!mkdir models"
      ],
      "execution_count": 0,
      "outputs": []
    },
    {
      "cell_type": "code",
      "metadata": {
        "id": "pUlGs507NbcN",
        "colab_type": "code",
        "outputId": "339fd697-1932-435f-c211-a0517cfdf64b",
        "colab": {
          "base_uri": "https://localhost:8080/",
          "height": 1000
        }
      },
      "source": [
        "!python pyAudioAnalysis/pyAudioAnalysis/audioAnalysis.py trainClassifier -i trainingData/cat/ trainingData/dog/ --method svm -o models/svmSM"
      ],
      "execution_count": 0,
      "outputs": [
        {
          "output_type": "stream",
          "text": [
            "Analyzing file 1 of 10: trainingData/cat/cat_1.wav\n",
            "Analyzing file 2 of 10: trainingData/cat/cat_10.wav\n",
            "Analyzing file 3 of 10: trainingData/cat/cat_2.wav\n",
            "Analyzing file 4 of 10: trainingData/cat/cat_3.wav\n",
            "Analyzing file 5 of 10: trainingData/cat/cat_4.wav\n",
            "Analyzing file 6 of 10: trainingData/cat/cat_5.wav\n",
            "Analyzing file 7 of 10: trainingData/cat/cat_6.wav\n",
            "Analyzing file 8 of 10: trainingData/cat/cat_7.wav\n",
            "Analyzing file 9 of 10: trainingData/cat/cat_8.wav\n",
            "Analyzing file 10 of 10: trainingData/cat/cat_9.wav\n",
            "Feature extraction complexity ratio: 14.2 x realtime\n",
            "Analyzing file 1 of 10: trainingData/dog/dog_barking_1.wav\n",
            "Analyzing file 2 of 10: trainingData/dog/dog_barking_10.wav\n",
            "Analyzing file 3 of 10: trainingData/dog/dog_barking_2.wav\n",
            "Analyzing file 4 of 10: trainingData/dog/dog_barking_3.wav\n",
            "Analyzing file 5 of 10: trainingData/dog/dog_barking_4.wav\n",
            "Analyzing file 6 of 10: trainingData/dog/dog_barking_5.wav\n",
            "Analyzing file 7 of 10: trainingData/dog/dog_barking_6.wav\n",
            "Analyzing file 8 of 10: trainingData/dog/dog_barking_7.wav\n",
            "Analyzing file 9 of 10: trainingData/dog/dog_barking_8.wav\n",
            "Analyzing file 10 of 10: trainingData/dog/dog_barking_9.wav\n",
            "Feature extraction complexity ratio: 13.9 x realtime\n",
            "Param = 0.00100 - classifier Evaluation Experiment 1 of 100\n",
            "Param = 0.00100 - classifier Evaluation Experiment 2 of 100\n",
            "Param = 0.00100 - classifier Evaluation Experiment 3 of 100\n",
            "Param = 0.00100 - classifier Evaluation Experiment 4 of 100\n",
            "Param = 0.00100 - classifier Evaluation Experiment 5 of 100\n",
            "Param = 0.00100 - classifier Evaluation Experiment 6 of 100\n",
            "Param = 0.00100 - classifier Evaluation Experiment 7 of 100\n",
            "Param = 0.00100 - classifier Evaluation Experiment 8 of 100\n",
            "Param = 0.00100 - classifier Evaluation Experiment 9 of 100\n",
            "Param = 0.00100 - classifier Evaluation Experiment 10 of 100\n",
            "Param = 0.00100 - classifier Evaluation Experiment 11 of 100\n",
            "Param = 0.00100 - classifier Evaluation Experiment 12 of 100\n",
            "Param = 0.00100 - classifier Evaluation Experiment 13 of 100\n",
            "Param = 0.00100 - classifier Evaluation Experiment 14 of 100\n",
            "Param = 0.00100 - classifier Evaluation Experiment 15 of 100\n",
            "Param = 0.00100 - classifier Evaluation Experiment 16 of 100\n",
            "Param = 0.00100 - classifier Evaluation Experiment 17 of 100\n",
            "Param = 0.00100 - classifier Evaluation Experiment 18 of 100\n",
            "Param = 0.00100 - classifier Evaluation Experiment 19 of 100\n",
            "Param = 0.00100 - classifier Evaluation Experiment 20 of 100\n",
            "Param = 0.00100 - classifier Evaluation Experiment 21 of 100\n",
            "Param = 0.00100 - classifier Evaluation Experiment 22 of 100\n",
            "Param = 0.00100 - classifier Evaluation Experiment 23 of 100\n",
            "Param = 0.00100 - classifier Evaluation Experiment 24 of 100\n",
            "Param = 0.00100 - classifier Evaluation Experiment 25 of 100\n",
            "Param = 0.00100 - classifier Evaluation Experiment 26 of 100\n",
            "Param = 0.00100 - classifier Evaluation Experiment 27 of 100\n",
            "Param = 0.00100 - classifier Evaluation Experiment 28 of 100\n",
            "Param = 0.00100 - classifier Evaluation Experiment 29 of 100\n",
            "Param = 0.00100 - classifier Evaluation Experiment 30 of 100\n",
            "Param = 0.00100 - classifier Evaluation Experiment 31 of 100\n",
            "Param = 0.00100 - classifier Evaluation Experiment 32 of 100\n",
            "Param = 0.00100 - classifier Evaluation Experiment 33 of 100\n",
            "Param = 0.00100 - classifier Evaluation Experiment 34 of 100\n",
            "Param = 0.00100 - classifier Evaluation Experiment 35 of 100\n",
            "Param = 0.00100 - classifier Evaluation Experiment 36 of 100\n",
            "Param = 0.00100 - classifier Evaluation Experiment 37 of 100\n",
            "Param = 0.00100 - classifier Evaluation Experiment 38 of 100\n",
            "Param = 0.00100 - classifier Evaluation Experiment 39 of 100\n",
            "Param = 0.00100 - classifier Evaluation Experiment 40 of 100\n",
            "Param = 0.00100 - classifier Evaluation Experiment 41 of 100\n",
            "Param = 0.00100 - classifier Evaluation Experiment 42 of 100\n",
            "Param = 0.00100 - classifier Evaluation Experiment 43 of 100\n",
            "Param = 0.00100 - classifier Evaluation Experiment 44 of 100\n",
            "Param = 0.00100 - classifier Evaluation Experiment 45 of 100\n",
            "Param = 0.00100 - classifier Evaluation Experiment 46 of 100\n",
            "Param = 0.00100 - classifier Evaluation Experiment 47 of 100\n",
            "Param = 0.00100 - classifier Evaluation Experiment 48 of 100\n",
            "Param = 0.00100 - classifier Evaluation Experiment 49 of 100\n",
            "Param = 0.00100 - classifier Evaluation Experiment 50 of 100\n",
            "Param = 0.00100 - classifier Evaluation Experiment 51 of 100\n",
            "Param = 0.00100 - classifier Evaluation Experiment 52 of 100\n",
            "Param = 0.00100 - classifier Evaluation Experiment 53 of 100\n",
            "Param = 0.00100 - classifier Evaluation Experiment 54 of 100\n",
            "Param = 0.00100 - classifier Evaluation Experiment 55 of 100\n",
            "Param = 0.00100 - classifier Evaluation Experiment 56 of 100\n",
            "Param = 0.00100 - classifier Evaluation Experiment 57 of 100\n",
            "Param = 0.00100 - classifier Evaluation Experiment 58 of 100\n",
            "Param = 0.00100 - classifier Evaluation Experiment 59 of 100\n",
            "Param = 0.00100 - classifier Evaluation Experiment 60 of 100\n",
            "Param = 0.00100 - classifier Evaluation Experiment 61 of 100\n",
            "Param = 0.00100 - classifier Evaluation Experiment 62 of 100\n",
            "Param = 0.00100 - classifier Evaluation Experiment 63 of 100\n",
            "Param = 0.00100 - classifier Evaluation Experiment 64 of 100\n",
            "Param = 0.00100 - classifier Evaluation Experiment 65 of 100\n",
            "Param = 0.00100 - classifier Evaluation Experiment 66 of 100\n",
            "Param = 0.00100 - classifier Evaluation Experiment 67 of 100\n",
            "Param = 0.00100 - classifier Evaluation Experiment 68 of 100\n",
            "Param = 0.00100 - classifier Evaluation Experiment 69 of 100\n",
            "Param = 0.00100 - classifier Evaluation Experiment 70 of 100\n",
            "Param = 0.00100 - classifier Evaluation Experiment 71 of 100\n",
            "Param = 0.00100 - classifier Evaluation Experiment 72 of 100\n",
            "Param = 0.00100 - classifier Evaluation Experiment 73 of 100\n",
            "Param = 0.00100 - classifier Evaluation Experiment 74 of 100\n",
            "Param = 0.00100 - classifier Evaluation Experiment 75 of 100\n",
            "Param = 0.00100 - classifier Evaluation Experiment 76 of 100\n",
            "Param = 0.00100 - classifier Evaluation Experiment 77 of 100\n",
            "Param = 0.00100 - classifier Evaluation Experiment 78 of 100\n",
            "Param = 0.00100 - classifier Evaluation Experiment 79 of 100\n",
            "Param = 0.00100 - classifier Evaluation Experiment 80 of 100\n",
            "Param = 0.00100 - classifier Evaluation Experiment 81 of 100\n",
            "Param = 0.00100 - classifier Evaluation Experiment 82 of 100\n",
            "Param = 0.00100 - classifier Evaluation Experiment 83 of 100\n",
            "Param = 0.00100 - classifier Evaluation Experiment 84 of 100\n",
            "Param = 0.00100 - classifier Evaluation Experiment 85 of 100\n",
            "Param = 0.00100 - classifier Evaluation Experiment 86 of 100\n",
            "Param = 0.00100 - classifier Evaluation Experiment 87 of 100\n",
            "Param = 0.00100 - classifier Evaluation Experiment 88 of 100\n",
            "Param = 0.00100 - classifier Evaluation Experiment 89 of 100\n",
            "Param = 0.00100 - classifier Evaluation Experiment 90 of 100\n",
            "Param = 0.00100 - classifier Evaluation Experiment 91 of 100\n",
            "Param = 0.00100 - classifier Evaluation Experiment 92 of 100\n",
            "Param = 0.00100 - classifier Evaluation Experiment 93 of 100\n",
            "Param = 0.00100 - classifier Evaluation Experiment 94 of 100\n",
            "Param = 0.00100 - classifier Evaluation Experiment 95 of 100\n",
            "Param = 0.00100 - classifier Evaluation Experiment 96 of 100\n",
            "Param = 0.00100 - classifier Evaluation Experiment 97 of 100\n",
            "Param = 0.00100 - classifier Evaluation Experiment 98 of 100\n",
            "Param = 0.00100 - classifier Evaluation Experiment 99 of 100\n",
            "Param = 0.00100 - classifier Evaluation Experiment 100 of 100\n",
            "Param = 0.01000 - classifier Evaluation Experiment 1 of 100\n",
            "Param = 0.01000 - classifier Evaluation Experiment 2 of 100\n",
            "Param = 0.01000 - classifier Evaluation Experiment 3 of 100\n",
            "Param = 0.01000 - classifier Evaluation Experiment 4 of 100\n",
            "Param = 0.01000 - classifier Evaluation Experiment 5 of 100\n",
            "Param = 0.01000 - classifier Evaluation Experiment 6 of 100\n",
            "Param = 0.01000 - classifier Evaluation Experiment 7 of 100\n",
            "Param = 0.01000 - classifier Evaluation Experiment 8 of 100\n",
            "Param = 0.01000 - classifier Evaluation Experiment 9 of 100\n",
            "Param = 0.01000 - classifier Evaluation Experiment 10 of 100\n",
            "Param = 0.01000 - classifier Evaluation Experiment 11 of 100\n",
            "Param = 0.01000 - classifier Evaluation Experiment 12 of 100\n",
            "Param = 0.01000 - classifier Evaluation Experiment 13 of 100\n",
            "Param = 0.01000 - classifier Evaluation Experiment 14 of 100\n",
            "Param = 0.01000 - classifier Evaluation Experiment 15 of 100\n",
            "Param = 0.01000 - classifier Evaluation Experiment 16 of 100\n",
            "Param = 0.01000 - classifier Evaluation Experiment 17 of 100\n",
            "Param = 0.01000 - classifier Evaluation Experiment 18 of 100\n",
            "Param = 0.01000 - classifier Evaluation Experiment 19 of 100\n",
            "Param = 0.01000 - classifier Evaluation Experiment 20 of 100\n",
            "Param = 0.01000 - classifier Evaluation Experiment 21 of 100\n",
            "Param = 0.01000 - classifier Evaluation Experiment 22 of 100\n",
            "Param = 0.01000 - classifier Evaluation Experiment 23 of 100\n",
            "Param = 0.01000 - classifier Evaluation Experiment 24 of 100\n",
            "Param = 0.01000 - classifier Evaluation Experiment 25 of 100\n",
            "Param = 0.01000 - classifier Evaluation Experiment 26 of 100\n",
            "Param = 0.01000 - classifier Evaluation Experiment 27 of 100\n",
            "Param = 0.01000 - classifier Evaluation Experiment 28 of 100\n",
            "Param = 0.01000 - classifier Evaluation Experiment 29 of 100\n",
            "Param = 0.01000 - classifier Evaluation Experiment 30 of 100\n",
            "Param = 0.01000 - classifier Evaluation Experiment 31 of 100\n",
            "Param = 0.01000 - classifier Evaluation Experiment 32 of 100\n",
            "Param = 0.01000 - classifier Evaluation Experiment 33 of 100\n",
            "Param = 0.01000 - classifier Evaluation Experiment 34 of 100\n",
            "Param = 0.01000 - classifier Evaluation Experiment 35 of 100\n",
            "Param = 0.01000 - classifier Evaluation Experiment 36 of 100\n",
            "Param = 0.01000 - classifier Evaluation Experiment 37 of 100\n",
            "Param = 0.01000 - classifier Evaluation Experiment 38 of 100\n",
            "Param = 0.01000 - classifier Evaluation Experiment 39 of 100\n",
            "Param = 0.01000 - classifier Evaluation Experiment 40 of 100\n",
            "Param = 0.01000 - classifier Evaluation Experiment 41 of 100\n",
            "Param = 0.01000 - classifier Evaluation Experiment 42 of 100\n",
            "Param = 0.01000 - classifier Evaluation Experiment 43 of 100\n",
            "Param = 0.01000 - classifier Evaluation Experiment 44 of 100\n",
            "Param = 0.01000 - classifier Evaluation Experiment 45 of 100\n",
            "Param = 0.01000 - classifier Evaluation Experiment 46 of 100\n",
            "Param = 0.01000 - classifier Evaluation Experiment 47 of 100\n",
            "Param = 0.01000 - classifier Evaluation Experiment 48 of 100\n",
            "Param = 0.01000 - classifier Evaluation Experiment 49 of 100\n",
            "Param = 0.01000 - classifier Evaluation Experiment 50 of 100\n",
            "Param = 0.01000 - classifier Evaluation Experiment 51 of 100\n",
            "Param = 0.01000 - classifier Evaluation Experiment 52 of 100\n",
            "Param = 0.01000 - classifier Evaluation Experiment 53 of 100\n",
            "Param = 0.01000 - classifier Evaluation Experiment 54 of 100\n",
            "Param = 0.01000 - classifier Evaluation Experiment 55 of 100\n",
            "Param = 0.01000 - classifier Evaluation Experiment 56 of 100\n",
            "Param = 0.01000 - classifier Evaluation Experiment 57 of 100\n",
            "Param = 0.01000 - classifier Evaluation Experiment 58 of 100\n",
            "Param = 0.01000 - classifier Evaluation Experiment 59 of 100\n",
            "Param = 0.01000 - classifier Evaluation Experiment 60 of 100\n",
            "Param = 0.01000 - classifier Evaluation Experiment 61 of 100\n",
            "Param = 0.01000 - classifier Evaluation Experiment 62 of 100\n",
            "Param = 0.01000 - classifier Evaluation Experiment 63 of 100\n",
            "Param = 0.01000 - classifier Evaluation Experiment 64 of 100\n",
            "Param = 0.01000 - classifier Evaluation Experiment 65 of 100\n",
            "Param = 0.01000 - classifier Evaluation Experiment 66 of 100\n",
            "Param = 0.01000 - classifier Evaluation Experiment 67 of 100\n",
            "Param = 0.01000 - classifier Evaluation Experiment 68 of 100\n",
            "Param = 0.01000 - classifier Evaluation Experiment 69 of 100\n",
            "Param = 0.01000 - classifier Evaluation Experiment 70 of 100\n",
            "Param = 0.01000 - classifier Evaluation Experiment 71 of 100\n",
            "Param = 0.01000 - classifier Evaluation Experiment 72 of 100\n",
            "Param = 0.01000 - classifier Evaluation Experiment 73 of 100\n",
            "Param = 0.01000 - classifier Evaluation Experiment 74 of 100\n",
            "Param = 0.01000 - classifier Evaluation Experiment 75 of 100\n",
            "Param = 0.01000 - classifier Evaluation Experiment 76 of 100\n",
            "Param = 0.01000 - classifier Evaluation Experiment 77 of 100\n",
            "Param = 0.01000 - classifier Evaluation Experiment 78 of 100\n",
            "Param = 0.01000 - classifier Evaluation Experiment 79 of 100\n",
            "Param = 0.01000 - classifier Evaluation Experiment 80 of 100\n",
            "Param = 0.01000 - classifier Evaluation Experiment 81 of 100\n",
            "Param = 0.01000 - classifier Evaluation Experiment 82 of 100\n",
            "Param = 0.01000 - classifier Evaluation Experiment 83 of 100\n",
            "Param = 0.01000 - classifier Evaluation Experiment 84 of 100\n",
            "Param = 0.01000 - classifier Evaluation Experiment 85 of 100\n",
            "Param = 0.01000 - classifier Evaluation Experiment 86 of 100\n",
            "Param = 0.01000 - classifier Evaluation Experiment 87 of 100\n",
            "Param = 0.01000 - classifier Evaluation Experiment 88 of 100\n",
            "Param = 0.01000 - classifier Evaluation Experiment 89 of 100\n",
            "Param = 0.01000 - classifier Evaluation Experiment 90 of 100\n",
            "Param = 0.01000 - classifier Evaluation Experiment 91 of 100\n",
            "Param = 0.01000 - classifier Evaluation Experiment 92 of 100\n",
            "Param = 0.01000 - classifier Evaluation Experiment 93 of 100\n",
            "Param = 0.01000 - classifier Evaluation Experiment 94 of 100\n",
            "Param = 0.01000 - classifier Evaluation Experiment 95 of 100\n",
            "Param = 0.01000 - classifier Evaluation Experiment 96 of 100\n",
            "Param = 0.01000 - classifier Evaluation Experiment 97 of 100\n",
            "Param = 0.01000 - classifier Evaluation Experiment 98 of 100\n",
            "Param = 0.01000 - classifier Evaluation Experiment 99 of 100\n",
            "Param = 0.01000 - classifier Evaluation Experiment 100 of 100\n",
            "Param = 0.50000 - classifier Evaluation Experiment 1 of 100\n",
            "Param = 0.50000 - classifier Evaluation Experiment 2 of 100\n",
            "Param = 0.50000 - classifier Evaluation Experiment 3 of 100\n",
            "Param = 0.50000 - classifier Evaluation Experiment 4 of 100\n",
            "Param = 0.50000 - classifier Evaluation Experiment 5 of 100\n",
            "Param = 0.50000 - classifier Evaluation Experiment 6 of 100\n",
            "Param = 0.50000 - classifier Evaluation Experiment 7 of 100\n",
            "Param = 0.50000 - classifier Evaluation Experiment 8 of 100\n",
            "Param = 0.50000 - classifier Evaluation Experiment 9 of 100\n",
            "Param = 0.50000 - classifier Evaluation Experiment 10 of 100\n",
            "Param = 0.50000 - classifier Evaluation Experiment 11 of 100\n",
            "Param = 0.50000 - classifier Evaluation Experiment 12 of 100\n",
            "Param = 0.50000 - classifier Evaluation Experiment 13 of 100\n",
            "Param = 0.50000 - classifier Evaluation Experiment 14 of 100\n",
            "Param = 0.50000 - classifier Evaluation Experiment 15 of 100\n",
            "Param = 0.50000 - classifier Evaluation Experiment 16 of 100\n",
            "Param = 0.50000 - classifier Evaluation Experiment 17 of 100\n",
            "Param = 0.50000 - classifier Evaluation Experiment 18 of 100\n",
            "Param = 0.50000 - classifier Evaluation Experiment 19 of 100\n",
            "Param = 0.50000 - classifier Evaluation Experiment 20 of 100\n",
            "Param = 0.50000 - classifier Evaluation Experiment 21 of 100\n",
            "Param = 0.50000 - classifier Evaluation Experiment 22 of 100\n",
            "Param = 0.50000 - classifier Evaluation Experiment 23 of 100\n",
            "Param = 0.50000 - classifier Evaluation Experiment 24 of 100\n",
            "Param = 0.50000 - classifier Evaluation Experiment 25 of 100\n",
            "Param = 0.50000 - classifier Evaluation Experiment 26 of 100\n",
            "Param = 0.50000 - classifier Evaluation Experiment 27 of 100\n",
            "Param = 0.50000 - classifier Evaluation Experiment 28 of 100\n",
            "Param = 0.50000 - classifier Evaluation Experiment 29 of 100\n",
            "Param = 0.50000 - classifier Evaluation Experiment 30 of 100\n",
            "Param = 0.50000 - classifier Evaluation Experiment 31 of 100\n",
            "Param = 0.50000 - classifier Evaluation Experiment 32 of 100\n",
            "Param = 0.50000 - classifier Evaluation Experiment 33 of 100\n",
            "Param = 0.50000 - classifier Evaluation Experiment 34 of 100\n",
            "Param = 0.50000 - classifier Evaluation Experiment 35 of 100\n",
            "Param = 0.50000 - classifier Evaluation Experiment 36 of 100\n",
            "Param = 0.50000 - classifier Evaluation Experiment 37 of 100\n",
            "Param = 0.50000 - classifier Evaluation Experiment 38 of 100\n",
            "Param = 0.50000 - classifier Evaluation Experiment 39 of 100\n",
            "Param = 0.50000 - classifier Evaluation Experiment 40 of 100\n",
            "Param = 0.50000 - classifier Evaluation Experiment 41 of 100\n",
            "Param = 0.50000 - classifier Evaluation Experiment 42 of 100\n",
            "Param = 0.50000 - classifier Evaluation Experiment 43 of 100\n",
            "Param = 0.50000 - classifier Evaluation Experiment 44 of 100\n",
            "Param = 0.50000 - classifier Evaluation Experiment 45 of 100\n",
            "Param = 0.50000 - classifier Evaluation Experiment 46 of 100\n",
            "Param = 0.50000 - classifier Evaluation Experiment 47 of 100\n",
            "Param = 0.50000 - classifier Evaluation Experiment 48 of 100\n",
            "Param = 0.50000 - classifier Evaluation Experiment 49 of 100\n",
            "Param = 0.50000 - classifier Evaluation Experiment 50 of 100\n",
            "Param = 0.50000 - classifier Evaluation Experiment 51 of 100\n",
            "Param = 0.50000 - classifier Evaluation Experiment 52 of 100\n",
            "Param = 0.50000 - classifier Evaluation Experiment 53 of 100\n",
            "Param = 0.50000 - classifier Evaluation Experiment 54 of 100\n",
            "Param = 0.50000 - classifier Evaluation Experiment 55 of 100\n",
            "Param = 0.50000 - classifier Evaluation Experiment 56 of 100\n",
            "Param = 0.50000 - classifier Evaluation Experiment 57 of 100\n",
            "Param = 0.50000 - classifier Evaluation Experiment 58 of 100\n",
            "Param = 0.50000 - classifier Evaluation Experiment 59 of 100\n",
            "Param = 0.50000 - classifier Evaluation Experiment 60 of 100\n",
            "Param = 0.50000 - classifier Evaluation Experiment 61 of 100\n",
            "Param = 0.50000 - classifier Evaluation Experiment 62 of 100\n",
            "Param = 0.50000 - classifier Evaluation Experiment 63 of 100\n",
            "Param = 0.50000 - classifier Evaluation Experiment 64 of 100\n",
            "Param = 0.50000 - classifier Evaluation Experiment 65 of 100\n",
            "Param = 0.50000 - classifier Evaluation Experiment 66 of 100\n",
            "Param = 0.50000 - classifier Evaluation Experiment 67 of 100\n",
            "Param = 0.50000 - classifier Evaluation Experiment 68 of 100\n",
            "Param = 0.50000 - classifier Evaluation Experiment 69 of 100\n",
            "Param = 0.50000 - classifier Evaluation Experiment 70 of 100\n",
            "Param = 0.50000 - classifier Evaluation Experiment 71 of 100\n",
            "Param = 0.50000 - classifier Evaluation Experiment 72 of 100\n",
            "Param = 0.50000 - classifier Evaluation Experiment 73 of 100\n",
            "Param = 0.50000 - classifier Evaluation Experiment 74 of 100\n",
            "Param = 0.50000 - classifier Evaluation Experiment 75 of 100\n",
            "Param = 0.50000 - classifier Evaluation Experiment 76 of 100\n",
            "Param = 0.50000 - classifier Evaluation Experiment 77 of 100\n",
            "Param = 0.50000 - classifier Evaluation Experiment 78 of 100\n",
            "Param = 0.50000 - classifier Evaluation Experiment 79 of 100\n",
            "Param = 0.50000 - classifier Evaluation Experiment 80 of 100\n",
            "Param = 0.50000 - classifier Evaluation Experiment 81 of 100\n",
            "Param = 0.50000 - classifier Evaluation Experiment 82 of 100\n",
            "Param = 0.50000 - classifier Evaluation Experiment 83 of 100\n",
            "Param = 0.50000 - classifier Evaluation Experiment 84 of 100\n",
            "Param = 0.50000 - classifier Evaluation Experiment 85 of 100\n",
            "Param = 0.50000 - classifier Evaluation Experiment 86 of 100\n",
            "Param = 0.50000 - classifier Evaluation Experiment 87 of 100\n",
            "Param = 0.50000 - classifier Evaluation Experiment 88 of 100\n",
            "Param = 0.50000 - classifier Evaluation Experiment 89 of 100\n",
            "Param = 0.50000 - classifier Evaluation Experiment 90 of 100\n",
            "Param = 0.50000 - classifier Evaluation Experiment 91 of 100\n",
            "Param = 0.50000 - classifier Evaluation Experiment 92 of 100\n",
            "Param = 0.50000 - classifier Evaluation Experiment 93 of 100\n",
            "Param = 0.50000 - classifier Evaluation Experiment 94 of 100\n",
            "Param = 0.50000 - classifier Evaluation Experiment 95 of 100\n",
            "Param = 0.50000 - classifier Evaluation Experiment 96 of 100\n",
            "Param = 0.50000 - classifier Evaluation Experiment 97 of 100\n",
            "Param = 0.50000 - classifier Evaluation Experiment 98 of 100\n",
            "Param = 0.50000 - classifier Evaluation Experiment 99 of 100\n",
            "Param = 0.50000 - classifier Evaluation Experiment 100 of 100\n",
            "Param = 1.00000 - classifier Evaluation Experiment 1 of 100\n",
            "Param = 1.00000 - classifier Evaluation Experiment 2 of 100\n",
            "Param = 1.00000 - classifier Evaluation Experiment 3 of 100\n",
            "Param = 1.00000 - classifier Evaluation Experiment 4 of 100\n",
            "Param = 1.00000 - classifier Evaluation Experiment 5 of 100\n",
            "Param = 1.00000 - classifier Evaluation Experiment 6 of 100\n",
            "Param = 1.00000 - classifier Evaluation Experiment 7 of 100\n",
            "Param = 1.00000 - classifier Evaluation Experiment 8 of 100\n",
            "Param = 1.00000 - classifier Evaluation Experiment 9 of 100\n",
            "Param = 1.00000 - classifier Evaluation Experiment 10 of 100\n",
            "Param = 1.00000 - classifier Evaluation Experiment 11 of 100\n",
            "Param = 1.00000 - classifier Evaluation Experiment 12 of 100\n",
            "Param = 1.00000 - classifier Evaluation Experiment 13 of 100\n",
            "Param = 1.00000 - classifier Evaluation Experiment 14 of 100\n",
            "Param = 1.00000 - classifier Evaluation Experiment 15 of 100\n",
            "Param = 1.00000 - classifier Evaluation Experiment 16 of 100\n",
            "Param = 1.00000 - classifier Evaluation Experiment 17 of 100\n",
            "Param = 1.00000 - classifier Evaluation Experiment 18 of 100\n",
            "Param = 1.00000 - classifier Evaluation Experiment 19 of 100\n",
            "Param = 1.00000 - classifier Evaluation Experiment 20 of 100\n",
            "Param = 1.00000 - classifier Evaluation Experiment 21 of 100\n",
            "Param = 1.00000 - classifier Evaluation Experiment 22 of 100\n",
            "Param = 1.00000 - classifier Evaluation Experiment 23 of 100\n",
            "Param = 1.00000 - classifier Evaluation Experiment 24 of 100\n",
            "Param = 1.00000 - classifier Evaluation Experiment 25 of 100\n",
            "Param = 1.00000 - classifier Evaluation Experiment 26 of 100\n",
            "Param = 1.00000 - classifier Evaluation Experiment 27 of 100\n",
            "Param = 1.00000 - classifier Evaluation Experiment 28 of 100\n",
            "Param = 1.00000 - classifier Evaluation Experiment 29 of 100\n",
            "Param = 1.00000 - classifier Evaluation Experiment 30 of 100\n",
            "Param = 1.00000 - classifier Evaluation Experiment 31 of 100\n",
            "Param = 1.00000 - classifier Evaluation Experiment 32 of 100\n",
            "Param = 1.00000 - classifier Evaluation Experiment 33 of 100\n",
            "Param = 1.00000 - classifier Evaluation Experiment 34 of 100\n",
            "Param = 1.00000 - classifier Evaluation Experiment 35 of 100\n",
            "Param = 1.00000 - classifier Evaluation Experiment 36 of 100\n",
            "Param = 1.00000 - classifier Evaluation Experiment 37 of 100\n",
            "Param = 1.00000 - classifier Evaluation Experiment 38 of 100\n",
            "Param = 1.00000 - classifier Evaluation Experiment 39 of 100\n",
            "Param = 1.00000 - classifier Evaluation Experiment 40 of 100\n",
            "Param = 1.00000 - classifier Evaluation Experiment 41 of 100\n",
            "Param = 1.00000 - classifier Evaluation Experiment 42 of 100\n",
            "Param = 1.00000 - classifier Evaluation Experiment 43 of 100\n",
            "Param = 1.00000 - classifier Evaluation Experiment 44 of 100\n",
            "Param = 1.00000 - classifier Evaluation Experiment 45 of 100\n",
            "Param = 1.00000 - classifier Evaluation Experiment 46 of 100\n",
            "Param = 1.00000 - classifier Evaluation Experiment 47 of 100\n",
            "Param = 1.00000 - classifier Evaluation Experiment 48 of 100\n",
            "Param = 1.00000 - classifier Evaluation Experiment 49 of 100\n",
            "Param = 1.00000 - classifier Evaluation Experiment 50 of 100\n",
            "Param = 1.00000 - classifier Evaluation Experiment 51 of 100\n",
            "Param = 1.00000 - classifier Evaluation Experiment 52 of 100\n",
            "Param = 1.00000 - classifier Evaluation Experiment 53 of 100\n",
            "Param = 1.00000 - classifier Evaluation Experiment 54 of 100\n",
            "Param = 1.00000 - classifier Evaluation Experiment 55 of 100\n",
            "Param = 1.00000 - classifier Evaluation Experiment 56 of 100\n",
            "Param = 1.00000 - classifier Evaluation Experiment 57 of 100\n",
            "Param = 1.00000 - classifier Evaluation Experiment 58 of 100\n",
            "Param = 1.00000 - classifier Evaluation Experiment 59 of 100\n",
            "Param = 1.00000 - classifier Evaluation Experiment 60 of 100\n",
            "Param = 1.00000 - classifier Evaluation Experiment 61 of 100\n",
            "Param = 1.00000 - classifier Evaluation Experiment 62 of 100\n",
            "Param = 1.00000 - classifier Evaluation Experiment 63 of 100\n",
            "Param = 1.00000 - classifier Evaluation Experiment 64 of 100\n",
            "Param = 1.00000 - classifier Evaluation Experiment 65 of 100\n",
            "Param = 1.00000 - classifier Evaluation Experiment 66 of 100\n",
            "Param = 1.00000 - classifier Evaluation Experiment 67 of 100\n",
            "Param = 1.00000 - classifier Evaluation Experiment 68 of 100\n",
            "Param = 1.00000 - classifier Evaluation Experiment 69 of 100\n",
            "Param = 1.00000 - classifier Evaluation Experiment 70 of 100\n",
            "Param = 1.00000 - classifier Evaluation Experiment 71 of 100\n",
            "Param = 1.00000 - classifier Evaluation Experiment 72 of 100\n",
            "Param = 1.00000 - classifier Evaluation Experiment 73 of 100\n",
            "Param = 1.00000 - classifier Evaluation Experiment 74 of 100\n",
            "Param = 1.00000 - classifier Evaluation Experiment 75 of 100\n",
            "Param = 1.00000 - classifier Evaluation Experiment 76 of 100\n",
            "Param = 1.00000 - classifier Evaluation Experiment 77 of 100\n",
            "Param = 1.00000 - classifier Evaluation Experiment 78 of 100\n",
            "Param = 1.00000 - classifier Evaluation Experiment 79 of 100\n",
            "Param = 1.00000 - classifier Evaluation Experiment 80 of 100\n",
            "Param = 1.00000 - classifier Evaluation Experiment 81 of 100\n",
            "Param = 1.00000 - classifier Evaluation Experiment 82 of 100\n",
            "Param = 1.00000 - classifier Evaluation Experiment 83 of 100\n",
            "Param = 1.00000 - classifier Evaluation Experiment 84 of 100\n",
            "Param = 1.00000 - classifier Evaluation Experiment 85 of 100\n",
            "Param = 1.00000 - classifier Evaluation Experiment 86 of 100\n",
            "Param = 1.00000 - classifier Evaluation Experiment 87 of 100\n",
            "Param = 1.00000 - classifier Evaluation Experiment 88 of 100\n",
            "Param = 1.00000 - classifier Evaluation Experiment 89 of 100\n",
            "Param = 1.00000 - classifier Evaluation Experiment 90 of 100\n",
            "Param = 1.00000 - classifier Evaluation Experiment 91 of 100\n",
            "Param = 1.00000 - classifier Evaluation Experiment 92 of 100\n",
            "Param = 1.00000 - classifier Evaluation Experiment 93 of 100\n",
            "Param = 1.00000 - classifier Evaluation Experiment 94 of 100\n",
            "Param = 1.00000 - classifier Evaluation Experiment 95 of 100\n",
            "Param = 1.00000 - classifier Evaluation Experiment 96 of 100\n",
            "Param = 1.00000 - classifier Evaluation Experiment 97 of 100\n",
            "Param = 1.00000 - classifier Evaluation Experiment 98 of 100\n",
            "Param = 1.00000 - classifier Evaluation Experiment 99 of 100\n",
            "Param = 1.00000 - classifier Evaluation Experiment 100 of 100\n",
            "Param = 5.00000 - classifier Evaluation Experiment 1 of 100\n",
            "Param = 5.00000 - classifier Evaluation Experiment 2 of 100\n",
            "Param = 5.00000 - classifier Evaluation Experiment 3 of 100\n",
            "Param = 5.00000 - classifier Evaluation Experiment 4 of 100\n",
            "Param = 5.00000 - classifier Evaluation Experiment 5 of 100\n",
            "Param = 5.00000 - classifier Evaluation Experiment 6 of 100\n",
            "Param = 5.00000 - classifier Evaluation Experiment 7 of 100\n",
            "Param = 5.00000 - classifier Evaluation Experiment 8 of 100\n",
            "Param = 5.00000 - classifier Evaluation Experiment 9 of 100\n",
            "Param = 5.00000 - classifier Evaluation Experiment 10 of 100\n",
            "Param = 5.00000 - classifier Evaluation Experiment 11 of 100\n",
            "Param = 5.00000 - classifier Evaluation Experiment 12 of 100\n",
            "Param = 5.00000 - classifier Evaluation Experiment 13 of 100\n",
            "Param = 5.00000 - classifier Evaluation Experiment 14 of 100\n",
            "Param = 5.00000 - classifier Evaluation Experiment 15 of 100\n",
            "Param = 5.00000 - classifier Evaluation Experiment 16 of 100\n",
            "Param = 5.00000 - classifier Evaluation Experiment 17 of 100\n",
            "Param = 5.00000 - classifier Evaluation Experiment 18 of 100\n",
            "Param = 5.00000 - classifier Evaluation Experiment 19 of 100\n",
            "Param = 5.00000 - classifier Evaluation Experiment 20 of 100\n",
            "Param = 5.00000 - classifier Evaluation Experiment 21 of 100\n",
            "Param = 5.00000 - classifier Evaluation Experiment 22 of 100\n",
            "Param = 5.00000 - classifier Evaluation Experiment 23 of 100\n",
            "Param = 5.00000 - classifier Evaluation Experiment 24 of 100\n",
            "Param = 5.00000 - classifier Evaluation Experiment 25 of 100\n",
            "Param = 5.00000 - classifier Evaluation Experiment 26 of 100\n",
            "Param = 5.00000 - classifier Evaluation Experiment 27 of 100\n",
            "Param = 5.00000 - classifier Evaluation Experiment 28 of 100\n",
            "Param = 5.00000 - classifier Evaluation Experiment 29 of 100\n",
            "Param = 5.00000 - classifier Evaluation Experiment 30 of 100\n",
            "Param = 5.00000 - classifier Evaluation Experiment 31 of 100\n",
            "Param = 5.00000 - classifier Evaluation Experiment 32 of 100\n",
            "Param = 5.00000 - classifier Evaluation Experiment 33 of 100\n",
            "Param = 5.00000 - classifier Evaluation Experiment 34 of 100\n",
            "Param = 5.00000 - classifier Evaluation Experiment 35 of 100\n",
            "Param = 5.00000 - classifier Evaluation Experiment 36 of 100\n",
            "Param = 5.00000 - classifier Evaluation Experiment 37 of 100\n",
            "Param = 5.00000 - classifier Evaluation Experiment 38 of 100\n",
            "Param = 5.00000 - classifier Evaluation Experiment 39 of 100\n",
            "Param = 5.00000 - classifier Evaluation Experiment 40 of 100\n",
            "Param = 5.00000 - classifier Evaluation Experiment 41 of 100\n",
            "Param = 5.00000 - classifier Evaluation Experiment 42 of 100\n",
            "Param = 5.00000 - classifier Evaluation Experiment 43 of 100\n",
            "Param = 5.00000 - classifier Evaluation Experiment 44 of 100\n",
            "Param = 5.00000 - classifier Evaluation Experiment 45 of 100\n",
            "Param = 5.00000 - classifier Evaluation Experiment 46 of 100\n",
            "Param = 5.00000 - classifier Evaluation Experiment 47 of 100\n",
            "Param = 5.00000 - classifier Evaluation Experiment 48 of 100\n",
            "Param = 5.00000 - classifier Evaluation Experiment 49 of 100\n",
            "Param = 5.00000 - classifier Evaluation Experiment 50 of 100\n",
            "Param = 5.00000 - classifier Evaluation Experiment 51 of 100\n",
            "Param = 5.00000 - classifier Evaluation Experiment 52 of 100\n",
            "Param = 5.00000 - classifier Evaluation Experiment 53 of 100\n",
            "Param = 5.00000 - classifier Evaluation Experiment 54 of 100\n",
            "Param = 5.00000 - classifier Evaluation Experiment 55 of 100\n",
            "Param = 5.00000 - classifier Evaluation Experiment 56 of 100\n",
            "Param = 5.00000 - classifier Evaluation Experiment 57 of 100\n",
            "Param = 5.00000 - classifier Evaluation Experiment 58 of 100\n",
            "Param = 5.00000 - classifier Evaluation Experiment 59 of 100\n",
            "Param = 5.00000 - classifier Evaluation Experiment 60 of 100\n",
            "Param = 5.00000 - classifier Evaluation Experiment 61 of 100\n",
            "Param = 5.00000 - classifier Evaluation Experiment 62 of 100\n",
            "Param = 5.00000 - classifier Evaluation Experiment 63 of 100\n",
            "Param = 5.00000 - classifier Evaluation Experiment 64 of 100\n",
            "Param = 5.00000 - classifier Evaluation Experiment 65 of 100\n",
            "Param = 5.00000 - classifier Evaluation Experiment 66 of 100\n",
            "Param = 5.00000 - classifier Evaluation Experiment 67 of 100\n",
            "Param = 5.00000 - classifier Evaluation Experiment 68 of 100\n",
            "Param = 5.00000 - classifier Evaluation Experiment 69 of 100\n",
            "Param = 5.00000 - classifier Evaluation Experiment 70 of 100\n",
            "Param = 5.00000 - classifier Evaluation Experiment 71 of 100\n",
            "Param = 5.00000 - classifier Evaluation Experiment 72 of 100\n",
            "Param = 5.00000 - classifier Evaluation Experiment 73 of 100\n",
            "Param = 5.00000 - classifier Evaluation Experiment 74 of 100\n",
            "Param = 5.00000 - classifier Evaluation Experiment 75 of 100\n",
            "Param = 5.00000 - classifier Evaluation Experiment 76 of 100\n",
            "Param = 5.00000 - classifier Evaluation Experiment 77 of 100\n",
            "Param = 5.00000 - classifier Evaluation Experiment 78 of 100\n",
            "Param = 5.00000 - classifier Evaluation Experiment 79 of 100\n",
            "Param = 5.00000 - classifier Evaluation Experiment 80 of 100\n",
            "Param = 5.00000 - classifier Evaluation Experiment 81 of 100\n",
            "Param = 5.00000 - classifier Evaluation Experiment 82 of 100\n",
            "Param = 5.00000 - classifier Evaluation Experiment 83 of 100\n",
            "Param = 5.00000 - classifier Evaluation Experiment 84 of 100\n",
            "Param = 5.00000 - classifier Evaluation Experiment 85 of 100\n",
            "Param = 5.00000 - classifier Evaluation Experiment 86 of 100\n",
            "Param = 5.00000 - classifier Evaluation Experiment 87 of 100\n",
            "Param = 5.00000 - classifier Evaluation Experiment 88 of 100\n",
            "Param = 5.00000 - classifier Evaluation Experiment 89 of 100\n",
            "Param = 5.00000 - classifier Evaluation Experiment 90 of 100\n",
            "Param = 5.00000 - classifier Evaluation Experiment 91 of 100\n",
            "Param = 5.00000 - classifier Evaluation Experiment 92 of 100\n",
            "Param = 5.00000 - classifier Evaluation Experiment 93 of 100\n",
            "Param = 5.00000 - classifier Evaluation Experiment 94 of 100\n",
            "Param = 5.00000 - classifier Evaluation Experiment 95 of 100\n",
            "Param = 5.00000 - classifier Evaluation Experiment 96 of 100\n",
            "Param = 5.00000 - classifier Evaluation Experiment 97 of 100\n",
            "Param = 5.00000 - classifier Evaluation Experiment 98 of 100\n",
            "Param = 5.00000 - classifier Evaluation Experiment 99 of 100\n",
            "Param = 5.00000 - classifier Evaluation Experiment 100 of 100\n",
            "Param = 10.00000 - classifier Evaluation Experiment 1 of 100\n",
            "Param = 10.00000 - classifier Evaluation Experiment 2 of 100\n",
            "Param = 10.00000 - classifier Evaluation Experiment 3 of 100\n",
            "Param = 10.00000 - classifier Evaluation Experiment 4 of 100\n",
            "Param = 10.00000 - classifier Evaluation Experiment 5 of 100\n",
            "Param = 10.00000 - classifier Evaluation Experiment 6 of 100\n",
            "Param = 10.00000 - classifier Evaluation Experiment 7 of 100\n",
            "Param = 10.00000 - classifier Evaluation Experiment 8 of 100\n",
            "Param = 10.00000 - classifier Evaluation Experiment 9 of 100\n",
            "Param = 10.00000 - classifier Evaluation Experiment 10 of 100\n",
            "Param = 10.00000 - classifier Evaluation Experiment 11 of 100\n",
            "Param = 10.00000 - classifier Evaluation Experiment 12 of 100\n",
            "Param = 10.00000 - classifier Evaluation Experiment 13 of 100\n",
            "Param = 10.00000 - classifier Evaluation Experiment 14 of 100\n",
            "Param = 10.00000 - classifier Evaluation Experiment 15 of 100\n",
            "Param = 10.00000 - classifier Evaluation Experiment 16 of 100\n",
            "Param = 10.00000 - classifier Evaluation Experiment 17 of 100\n",
            "Param = 10.00000 - classifier Evaluation Experiment 18 of 100\n",
            "Param = 10.00000 - classifier Evaluation Experiment 19 of 100\n",
            "Param = 10.00000 - classifier Evaluation Experiment 20 of 100\n",
            "Param = 10.00000 - classifier Evaluation Experiment 21 of 100\n",
            "Param = 10.00000 - classifier Evaluation Experiment 22 of 100\n",
            "Param = 10.00000 - classifier Evaluation Experiment 23 of 100\n",
            "Param = 10.00000 - classifier Evaluation Experiment 24 of 100\n",
            "Param = 10.00000 - classifier Evaluation Experiment 25 of 100\n",
            "Param = 10.00000 - classifier Evaluation Experiment 26 of 100\n",
            "Param = 10.00000 - classifier Evaluation Experiment 27 of 100\n",
            "Param = 10.00000 - classifier Evaluation Experiment 28 of 100\n",
            "Param = 10.00000 - classifier Evaluation Experiment 29 of 100\n",
            "Param = 10.00000 - classifier Evaluation Experiment 30 of 100\n",
            "Param = 10.00000 - classifier Evaluation Experiment 31 of 100\n",
            "Param = 10.00000 - classifier Evaluation Experiment 32 of 100\n",
            "Param = 10.00000 - classifier Evaluation Experiment 33 of 100\n",
            "Param = 10.00000 - classifier Evaluation Experiment 34 of 100\n",
            "Param = 10.00000 - classifier Evaluation Experiment 35 of 100\n",
            "Param = 10.00000 - classifier Evaluation Experiment 36 of 100\n",
            "Param = 10.00000 - classifier Evaluation Experiment 37 of 100\n",
            "Param = 10.00000 - classifier Evaluation Experiment 38 of 100\n",
            "Param = 10.00000 - classifier Evaluation Experiment 39 of 100\n",
            "Param = 10.00000 - classifier Evaluation Experiment 40 of 100\n",
            "Param = 10.00000 - classifier Evaluation Experiment 41 of 100\n",
            "Param = 10.00000 - classifier Evaluation Experiment 42 of 100\n",
            "Param = 10.00000 - classifier Evaluation Experiment 43 of 100\n",
            "Param = 10.00000 - classifier Evaluation Experiment 44 of 100\n",
            "Param = 10.00000 - classifier Evaluation Experiment 45 of 100\n",
            "Param = 10.00000 - classifier Evaluation Experiment 46 of 100\n",
            "Param = 10.00000 - classifier Evaluation Experiment 47 of 100\n",
            "Param = 10.00000 - classifier Evaluation Experiment 48 of 100\n",
            "Param = 10.00000 - classifier Evaluation Experiment 49 of 100\n",
            "Param = 10.00000 - classifier Evaluation Experiment 50 of 100\n",
            "Param = 10.00000 - classifier Evaluation Experiment 51 of 100\n",
            "Param = 10.00000 - classifier Evaluation Experiment 52 of 100\n",
            "Param = 10.00000 - classifier Evaluation Experiment 53 of 100\n",
            "Param = 10.00000 - classifier Evaluation Experiment 54 of 100\n",
            "Param = 10.00000 - classifier Evaluation Experiment 55 of 100\n",
            "Param = 10.00000 - classifier Evaluation Experiment 56 of 100\n",
            "Param = 10.00000 - classifier Evaluation Experiment 57 of 100\n",
            "Param = 10.00000 - classifier Evaluation Experiment 58 of 100\n",
            "Param = 10.00000 - classifier Evaluation Experiment 59 of 100\n",
            "Param = 10.00000 - classifier Evaluation Experiment 60 of 100\n",
            "Param = 10.00000 - classifier Evaluation Experiment 61 of 100\n",
            "Param = 10.00000 - classifier Evaluation Experiment 62 of 100\n",
            "Param = 10.00000 - classifier Evaluation Experiment 63 of 100\n",
            "Param = 10.00000 - classifier Evaluation Experiment 64 of 100\n",
            "Param = 10.00000 - classifier Evaluation Experiment 65 of 100\n",
            "Param = 10.00000 - classifier Evaluation Experiment 66 of 100\n",
            "Param = 10.00000 - classifier Evaluation Experiment 67 of 100\n",
            "Param = 10.00000 - classifier Evaluation Experiment 68 of 100\n",
            "Param = 10.00000 - classifier Evaluation Experiment 69 of 100\n",
            "Param = 10.00000 - classifier Evaluation Experiment 70 of 100\n",
            "Param = 10.00000 - classifier Evaluation Experiment 71 of 100\n",
            "Param = 10.00000 - classifier Evaluation Experiment 72 of 100\n",
            "Param = 10.00000 - classifier Evaluation Experiment 73 of 100\n",
            "Param = 10.00000 - classifier Evaluation Experiment 74 of 100\n",
            "Param = 10.00000 - classifier Evaluation Experiment 75 of 100\n",
            "Param = 10.00000 - classifier Evaluation Experiment 76 of 100\n",
            "Param = 10.00000 - classifier Evaluation Experiment 77 of 100\n",
            "Param = 10.00000 - classifier Evaluation Experiment 78 of 100\n",
            "Param = 10.00000 - classifier Evaluation Experiment 79 of 100\n",
            "Param = 10.00000 - classifier Evaluation Experiment 80 of 100\n",
            "Param = 10.00000 - classifier Evaluation Experiment 81 of 100\n",
            "Param = 10.00000 - classifier Evaluation Experiment 82 of 100\n",
            "Param = 10.00000 - classifier Evaluation Experiment 83 of 100\n",
            "Param = 10.00000 - classifier Evaluation Experiment 84 of 100\n",
            "Param = 10.00000 - classifier Evaluation Experiment 85 of 100\n",
            "Param = 10.00000 - classifier Evaluation Experiment 86 of 100\n",
            "Param = 10.00000 - classifier Evaluation Experiment 87 of 100\n",
            "Param = 10.00000 - classifier Evaluation Experiment 88 of 100\n",
            "Param = 10.00000 - classifier Evaluation Experiment 89 of 100\n",
            "Param = 10.00000 - classifier Evaluation Experiment 90 of 100\n",
            "Param = 10.00000 - classifier Evaluation Experiment 91 of 100\n",
            "Param = 10.00000 - classifier Evaluation Experiment 92 of 100\n",
            "Param = 10.00000 - classifier Evaluation Experiment 93 of 100\n",
            "Param = 10.00000 - classifier Evaluation Experiment 94 of 100\n",
            "Param = 10.00000 - classifier Evaluation Experiment 95 of 100\n",
            "Param = 10.00000 - classifier Evaluation Experiment 96 of 100\n",
            "Param = 10.00000 - classifier Evaluation Experiment 97 of 100\n",
            "Param = 10.00000 - classifier Evaluation Experiment 98 of 100\n",
            "Param = 10.00000 - classifier Evaluation Experiment 99 of 100\n",
            "Param = 10.00000 - classifier Evaluation Experiment 100 of 100\n",
            "Param = 20.00000 - classifier Evaluation Experiment 1 of 100\n",
            "Param = 20.00000 - classifier Evaluation Experiment 2 of 100\n",
            "Param = 20.00000 - classifier Evaluation Experiment 3 of 100\n",
            "Param = 20.00000 - classifier Evaluation Experiment 4 of 100\n",
            "Param = 20.00000 - classifier Evaluation Experiment 5 of 100\n",
            "Param = 20.00000 - classifier Evaluation Experiment 6 of 100\n",
            "Param = 20.00000 - classifier Evaluation Experiment 7 of 100\n",
            "Param = 20.00000 - classifier Evaluation Experiment 8 of 100\n",
            "Param = 20.00000 - classifier Evaluation Experiment 9 of 100\n",
            "Param = 20.00000 - classifier Evaluation Experiment 10 of 100\n",
            "Param = 20.00000 - classifier Evaluation Experiment 11 of 100\n",
            "Param = 20.00000 - classifier Evaluation Experiment 12 of 100\n",
            "Param = 20.00000 - classifier Evaluation Experiment 13 of 100\n",
            "Param = 20.00000 - classifier Evaluation Experiment 14 of 100\n",
            "Param = 20.00000 - classifier Evaluation Experiment 15 of 100\n",
            "Param = 20.00000 - classifier Evaluation Experiment 16 of 100\n",
            "Param = 20.00000 - classifier Evaluation Experiment 17 of 100\n",
            "Param = 20.00000 - classifier Evaluation Experiment 18 of 100\n",
            "Param = 20.00000 - classifier Evaluation Experiment 19 of 100\n",
            "Param = 20.00000 - classifier Evaluation Experiment 20 of 100\n",
            "Param = 20.00000 - classifier Evaluation Experiment 21 of 100\n",
            "Param = 20.00000 - classifier Evaluation Experiment 22 of 100\n",
            "Param = 20.00000 - classifier Evaluation Experiment 23 of 100\n",
            "Param = 20.00000 - classifier Evaluation Experiment 24 of 100\n",
            "Param = 20.00000 - classifier Evaluation Experiment 25 of 100\n",
            "Param = 20.00000 - classifier Evaluation Experiment 26 of 100\n",
            "Param = 20.00000 - classifier Evaluation Experiment 27 of 100\n",
            "Param = 20.00000 - classifier Evaluation Experiment 28 of 100\n",
            "Param = 20.00000 - classifier Evaluation Experiment 29 of 100\n",
            "Param = 20.00000 - classifier Evaluation Experiment 30 of 100\n",
            "Param = 20.00000 - classifier Evaluation Experiment 31 of 100\n",
            "Param = 20.00000 - classifier Evaluation Experiment 32 of 100\n",
            "Param = 20.00000 - classifier Evaluation Experiment 33 of 100\n",
            "Param = 20.00000 - classifier Evaluation Experiment 34 of 100\n",
            "Param = 20.00000 - classifier Evaluation Experiment 35 of 100\n",
            "Param = 20.00000 - classifier Evaluation Experiment 36 of 100\n",
            "Param = 20.00000 - classifier Evaluation Experiment 37 of 100\n",
            "Param = 20.00000 - classifier Evaluation Experiment 38 of 100\n",
            "Param = 20.00000 - classifier Evaluation Experiment 39 of 100\n",
            "Param = 20.00000 - classifier Evaluation Experiment 40 of 100\n",
            "Param = 20.00000 - classifier Evaluation Experiment 41 of 100\n",
            "Param = 20.00000 - classifier Evaluation Experiment 42 of 100\n",
            "Param = 20.00000 - classifier Evaluation Experiment 43 of 100\n",
            "Param = 20.00000 - classifier Evaluation Experiment 44 of 100\n",
            "Param = 20.00000 - classifier Evaluation Experiment 45 of 100\n",
            "Param = 20.00000 - classifier Evaluation Experiment 46 of 100\n",
            "Param = 20.00000 - classifier Evaluation Experiment 47 of 100\n",
            "Param = 20.00000 - classifier Evaluation Experiment 48 of 100\n",
            "Param = 20.00000 - classifier Evaluation Experiment 49 of 100\n",
            "Param = 20.00000 - classifier Evaluation Experiment 50 of 100\n",
            "Param = 20.00000 - classifier Evaluation Experiment 51 of 100\n",
            "Param = 20.00000 - classifier Evaluation Experiment 52 of 100\n",
            "Param = 20.00000 - classifier Evaluation Experiment 53 of 100\n",
            "Param = 20.00000 - classifier Evaluation Experiment 54 of 100\n",
            "Param = 20.00000 - classifier Evaluation Experiment 55 of 100\n",
            "Param = 20.00000 - classifier Evaluation Experiment 56 of 100\n",
            "Param = 20.00000 - classifier Evaluation Experiment 57 of 100\n",
            "Param = 20.00000 - classifier Evaluation Experiment 58 of 100\n",
            "Param = 20.00000 - classifier Evaluation Experiment 59 of 100\n",
            "Param = 20.00000 - classifier Evaluation Experiment 60 of 100\n",
            "Param = 20.00000 - classifier Evaluation Experiment 61 of 100\n",
            "Param = 20.00000 - classifier Evaluation Experiment 62 of 100\n",
            "Param = 20.00000 - classifier Evaluation Experiment 63 of 100\n",
            "Param = 20.00000 - classifier Evaluation Experiment 64 of 100\n",
            "Param = 20.00000 - classifier Evaluation Experiment 65 of 100\n",
            "Param = 20.00000 - classifier Evaluation Experiment 66 of 100\n",
            "Param = 20.00000 - classifier Evaluation Experiment 67 of 100\n",
            "Param = 20.00000 - classifier Evaluation Experiment 68 of 100\n",
            "Param = 20.00000 - classifier Evaluation Experiment 69 of 100\n",
            "Param = 20.00000 - classifier Evaluation Experiment 70 of 100\n",
            "Param = 20.00000 - classifier Evaluation Experiment 71 of 100\n",
            "Param = 20.00000 - classifier Evaluation Experiment 72 of 100\n",
            "Param = 20.00000 - classifier Evaluation Experiment 73 of 100\n",
            "Param = 20.00000 - classifier Evaluation Experiment 74 of 100\n",
            "Param = 20.00000 - classifier Evaluation Experiment 75 of 100\n",
            "Param = 20.00000 - classifier Evaluation Experiment 76 of 100\n",
            "Param = 20.00000 - classifier Evaluation Experiment 77 of 100\n",
            "Param = 20.00000 - classifier Evaluation Experiment 78 of 100\n",
            "Param = 20.00000 - classifier Evaluation Experiment 79 of 100\n",
            "Param = 20.00000 - classifier Evaluation Experiment 80 of 100\n",
            "Param = 20.00000 - classifier Evaluation Experiment 81 of 100\n",
            "Param = 20.00000 - classifier Evaluation Experiment 82 of 100\n",
            "Param = 20.00000 - classifier Evaluation Experiment 83 of 100\n",
            "Param = 20.00000 - classifier Evaluation Experiment 84 of 100\n",
            "Param = 20.00000 - classifier Evaluation Experiment 85 of 100\n",
            "Param = 20.00000 - classifier Evaluation Experiment 86 of 100\n",
            "Param = 20.00000 - classifier Evaluation Experiment 87 of 100\n",
            "Param = 20.00000 - classifier Evaluation Experiment 88 of 100\n",
            "Param = 20.00000 - classifier Evaluation Experiment 89 of 100\n",
            "Param = 20.00000 - classifier Evaluation Experiment 90 of 100\n",
            "Param = 20.00000 - classifier Evaluation Experiment 91 of 100\n",
            "Param = 20.00000 - classifier Evaluation Experiment 92 of 100\n",
            "Param = 20.00000 - classifier Evaluation Experiment 93 of 100\n",
            "Param = 20.00000 - classifier Evaluation Experiment 94 of 100\n",
            "Param = 20.00000 - classifier Evaluation Experiment 95 of 100\n",
            "Param = 20.00000 - classifier Evaluation Experiment 96 of 100\n",
            "Param = 20.00000 - classifier Evaluation Experiment 97 of 100\n",
            "Param = 20.00000 - classifier Evaluation Experiment 98 of 100\n",
            "Param = 20.00000 - classifier Evaluation Experiment 99 of 100\n",
            "Param = 20.00000 - classifier Evaluation Experiment 100 of 100\n",
            "\t\tcat\t\t\tdog\t\tOVERALL\n",
            "\tC\tPRE\tREC\tf1\tPRE\tREC\tf1\tACC\tf1\n",
            "\t0.001\t80.9\t76.0\t78.4\t77.4\t82.0\t79.6\t79.0\t79.0\t best Acc\n",
            "\t0.010\t79.0\t79.0\t79.0\t79.0\t79.0\t79.0\t79.0\t79.0\t best f1\n",
            "\t0.500\t68.6\t72.0\t70.2\t70.5\t67.0\t68.7\t69.5\t69.5\n",
            "\t1.000\t73.1\t76.0\t74.5\t75.0\t72.0\t73.5\t74.0\t74.0\n",
            "\t5.000\t71.8\t79.0\t75.2\t76.7\t69.0\t72.6\t74.0\t73.9\n",
            "\t10.000\t71.7\t76.0\t73.8\t74.5\t70.0\t72.2\t73.0\t73.0\n",
            "\t20.000\t74.7\t74.0\t74.4\t74.3\t75.0\t74.6\t74.5\t74.5\n",
            "Confusion Matrix:\n",
            "\tcat\tdog\n",
            "cat\t38.00\t12.00\n",
            "dog\t9.00\t41.00\n",
            "Selected params: 0.00100\n"
          ],
          "name": "stdout"
        }
      ]
    },
    {
      "cell_type": "code",
      "metadata": {
        "id": "YpNFWbz50i8s",
        "colab_type": "code",
        "outputId": "cefd8289-3ee0-41b8-946b-6218a8c72677",
        "colab": {
          "base_uri": "https://localhost:8080/",
          "height": 126
        }
      },
      "source": [
        "%ls -la models/"
      ],
      "execution_count": 0,
      "outputs": [
        {
          "output_type": "stream",
          "text": [
            "total 68\n",
            "drwxr-xr-x 2 root root  4096 May  3 06:29 \u001b[0m\u001b[01;34m.\u001b[0m/\n",
            "drwxr-xr-x 1 root root  4096 May  3 06:29 \u001b[01;34m..\u001b[0m/\n",
            "-rw-r--r-- 1 root root 23514 May  3 06:29 svmSM\n",
            "-rw-r--r-- 1 root root 29232 May  3 06:29 svmSM.arff\n",
            "-rw-r--r-- 1 root root  2591 May  3 06:29 svmSMMEANS\n"
          ],
          "name": "stdout"
        }
      ]
    },
    {
      "cell_type": "markdown",
      "metadata": {
        "id": "MKr2OQEUPeVh",
        "colab_type": "text"
      },
      "source": [
        "### Ταξινόμηση ‘άγνωστων’ ήχων\n",
        "\n",
        "Ας δούμε τώρα πόσο καλά τα πάει ο ταξινομητής μας:"
      ]
    },
    {
      "cell_type": "code",
      "metadata": {
        "id": "8xnJl80_Ptxk",
        "colab_type": "code",
        "outputId": "4b0ca533-9a68-4d4c-f400-9c548cb64040",
        "colab": {
          "base_uri": "https://localhost:8080/",
          "height": 235
        }
      },
      "source": [
        "!python pyAudioAnalysis/pyAudioAnalysis/audioAnalysis.py classifyFolder -i sampleData/ --model svm --classifier models/svmSM --details\n",
        "\n"
      ],
      "execution_count": 0,
      "outputs": [
        {
          "output_type": "stream",
          "text": [
            "sampleData/Cat ---  cat_13.wav\tcat\n",
            "sampleData/Cat --- cat_11.wav\tcat\n",
            "sampleData/Cat --- cat_12.wav\tcat\n",
            "sampleData/Cat --- cat_14.wav\tdog\n",
            "sampleData/Cat --- cat_15.wav\tcat\n",
            "sampleData/Dog --- barking_11.wav\tcat\n",
            "sampleData/Dog --- barking_12.wav\tdog\n",
            "sampleData/Dog --- barking_13.wav\tdog\n",
            "sampleData/Dog --- barking_14.wav\tdog\n",
            "sampleData/Dog --- barking_15.wav\tdog\n",
            "cat                 \t\t5\n",
            "dog                 \t\t5\n"
          ],
          "name": "stdout"
        }
      ]
    },
    {
      "cell_type": "markdown",
      "metadata": {
        "id": "1GNgAJX7RHTZ",
        "colab_type": "text"
      },
      "source": [
        "## Αφαίρεση σιγής"
      ]
    },
    {
      "cell_type": "markdown",
      "metadata": {
        "id": "QN8XT4yvoBZi",
        "colab_type": "text"
      },
      "source": [
        "Η συνάρτηση `silence_removal()` από το αρχείο `audioSegmentation.py` παίρνει σαν είσοδο ένα αρχείο ηχογράφησης και εξάγει τμήματα που αντιστοιχούν σε ηχητικά γεγονότα. Με αυτό το τρόπο, τμήματα \"σιγής\" αφαιρούνται από το σήμα."
      ]
    },
    {
      "cell_type": "markdown",
      "metadata": {
        "id": "6kHUyXC-RLmj",
        "colab_type": "text"
      },
      "source": [
        "Αυτό επιτυγχάνεται με μια ημι-εποπτευόμενη (semi-supervised) προσέγγιση: Πρώτα εκπαιδεύεται ένα SVM μοντέλο στο να διακρίνει frames υψηλής/χαμηλής ενέργειας. Για το σκοπό αυτό γίνεται χρήση των 10% των υψηλότερων και 10% των χαμηλότερων ενεργειακά πλαισίων. Το παραγόμενο μοντέλο τρέχει σε όλο το αρχείο (με έξοδο την πιθανότητα) και με δυναμική κατωφλίωση (επιλογή –weight) για  να διακρίνει τα ενεργά τμήματα."
      ]
    },
    {
      "cell_type": "markdown",
      "metadata": {
        "id": "MF_go4xMpzIu",
        "colab_type": "text"
      },
      "source": [
        "Η συνάρτηση `silence_removal()` έχει τα ακόλουθα ορίσματα: το σήμα, συχνότητα δειγματοληψίας, μήκος και βήμα παραθύρου, το παράθυρο (σε δευτερόλεπτα) που θα χρησιμοποιηθεί για την ομαλοποίηση της SVM σειράς πιθανοτήτων, ένας αριθμός μεταξύ 0 και 1 που ορίζει πόσο \"αυστηρή\" είναι η κατωφλίωση και τέλος μια boolean μεταβλητή σχετική με τη σχεδίαση του αποτελέσματος. Ας δούμε ένα παράδειγμα:"
      ]
    },
    {
      "cell_type": "code",
      "metadata": {
        "id": "j7uZO7y6Yd2u",
        "colab_type": "code",
        "outputId": "e78217f1-e887-49ce-d886-d3d6338be6dc",
        "colab": {
          "base_uri": "https://localhost:8080/",
          "height": 35
        }
      },
      "source": [
        "from pathlib import Path\n",
        "inputFile = Path(\"trainingData/cat/cat_1.wav\")\n",
        "smoothingWindow = 0.9\n",
        "weight = 0.6\n",
        "!mkdir tmp"
      ],
      "execution_count": 0,
      "outputs": [
        {
          "output_type": "stream",
          "text": [
            "mkdir: cannot create directory ‘tmp’: File exists\n"
          ],
          "name": "stdout"
        }
      ]
    },
    {
      "cell_type": "code",
      "metadata": {
        "id": "3OUeRiFiYJzP",
        "colab_type": "code",
        "outputId": "2bf4d305-a596-4340-d776-e7f498b4fe22",
        "colab": {
          "base_uri": "https://localhost:8080/",
          "height": 265
        }
      },
      "source": [
        "    from pyAudioAnalysis import audioSegmentation as aS\n",
        "    import scipy.io.wavfile as wavfile\n",
        "\n",
        "    [fs, x] = audioBasicIO.read_audio_file(inputFile)\n",
        "    segmentLimits = aS.silence_removal(x, fs, 0.05, 0.05,\n",
        "                                       smoothingWindow, weight, True)\n",
        "    for i, s in enumerate(segmentLimits):\n",
        "        strOut = \"tmp/{0:s}_{1:.3f}-{2:.3f}.wav\".format(inputFile.name[0:-4], s[0], s[1])\n",
        "        wavfile.write(strOut, fs, x[int(fs * s[0]):int(fs * s[1])])"
      ],
      "execution_count": 0,
      "outputs": [
        {
          "output_type": "display_data",
          "data": {
            "image/png": "[encoded data removed]",
            "text/plain": [
              "<Figure size 432x288 with 2 Axes>"
            ]
          },
          "metadata": {
            "tags": [],
            "needs_background": "light"
          }
        }
      ]
    },
    {
      "cell_type": "code",
      "metadata": {
        "id": "DQQLWUZjSH_u",
        "colab_type": "code",
        "outputId": "fbc25feb-89b7-4d00-9b36-878b252145be",
        "colab": {
          "base_uri": "https://localhost:8080/",
          "height": 35
        }
      },
      "source": [
        "!ls count2.wav/tmp"
      ],
      "execution_count": 0,
      "outputs": [
        {
          "output_type": "stream",
          "text": [
            "ls: cannot access 'count2.wav/tmp': No such file or directory\n"
          ],
          "name": "stdout"
        }
      ]
    },
    {
      "cell_type": "markdown",
      "metadata": {
        "id": "Wi7od_GsrfM7",
        "colab_type": "text"
      },
      "source": [
        "Ανάλογα με το είδος της ηχογράφησης, θα πρέπει να χρησιμοποιηθούν διαφορετικές τιμές στο μήκος παραθύρου ομαλοποίησης και στο βάρος πιθανότητας. Πχ (1.0, 0.3) για ήχους που έχουν ανάμεσα μεγάλα διαστήματα σιγής. Για μια ηχογράφηση συνεχής ομιλίας (πχ count2.wav), θα πρέπει να χρησιμοποιηθεί μικρότερο παράθυρο και αυστηρότερο κατώφλι, πχ (0.1, 0.6)"
      ]
    },
    {
      "cell_type": "markdown",
      "metadata": {
        "id": "3Svh6skxta1p",
        "colab_type": "text"
      },
      "source": [
        "## Αναγνώριση ομιλητή (Speaker Diarization)"
      ]
    },
    {
      "cell_type": "markdown",
      "metadata": {
        "id": "Ku-_sKMcygxd",
        "colab_type": "text"
      },
      "source": [
        "Η Αναγνώριση Ομιλητή αυτόματα απαντά στην ερώτηση \"ποιός μίλησε πότε\".\n",
        "Γενικά τα βήματα που ακολουθεί εδώ ο αλγόριθμος είναι:\n",
        "\n",
        "\n",
        "*   Εξαγωγή Χαρακτηριστικών (μικρής και μέσης διάρκειας). Για κάθε μέσης διάρκειας κομμάτι υπολογίζονται στατιστικές, καθώς και τη πιθανότητα να πρόκειται για ανδρική ή γυναικεία φωνή. (Εδώ χρησιμοποιείται και ένα εκπαιδευμένο μοντέλο, το `knnSpeakerFemaleMale`)\n",
        "*   (προαιρετικά) Βήμα FLsD: προβολές των χαρακτηριστικών μέσης διάρκειας με τη προσέγγιση FLsD.\n",
        "*   Ομαδοποίηση: Χρήση μεθόδου k-means (είτε στον αρχικό χώρο των χαρακτηριστικών είτε στον υποχώρο του FLsD). Αν το πλήθος των ομιλητών δεν είναι γνωστό από την αρχή, τότε επαναλαμβάνεται η διαδικασία για μια σειρά αριθμών, και με το κριτήριο Silhouette εκτιμάται το πλήθος των ομιλητών.\n",
        "*   Ομαλοποίηση: Σε αυτό το βήμα συνδιάζονται α) ένα median φίλτρο στις εξαχθείσες ομάδες και b) ομαλοποίηση με Viterbi.\n",
        "\n",
        "Η συνάρτηση `speakerDiarization()` από το αρχείο `audioSegmentation.py` εξάγει μια σειρά από ηχητικά κομμάτια με τις αντίστοιχες εττικέτες τους. (Για λεπτομέρειες στα ορίσματα κοιτάξτε τον κώδικα). Επιπλέον, η συνάρτηση `evaluateSpeakerDiarization()` χρησιμοποιείται από την  `speakerDiarization()` για να συγκρίνει τα αποτελέσματα με την αλήθεια (ground-truth) και να εξάγει μετρικές για την ακρίβεια. .Συγκεκριμένα, υπολογίζονται οι μετρικές cluster purity και  speaker purity. Για να είναι δυνατή η παραγωγή αυτών των μετρικών, χρειάζεται η ύπαρξη του αρχείου αληθείας `.segment` με το ίδιο όνομα με το WAV αρχείο."
      ]
    },
    {
      "cell_type": "code",
      "metadata": {
        "id": "R9AQNjxmv7L1",
        "colab_type": "code",
        "outputId": "cc489f90-fedb-47b8-8b14-8a0f36c1b477",
        "colab": {
          "base_uri": "https://localhost:8080/",
          "height": 35
        }
      },
      "source": [
        "ls -la pyAudioAnalysis/pyAudioAnalysis/data/diarizationExample.wav"
      ],
      "execution_count": 0,
      "outputs": [
        {
          "output_type": "stream",
          "text": [
            "-rwxr-xr-x 1 root root 1343534 May  3 05:46 \u001b[0m\u001b[01;32mpyAudioAnalysis/pyAudioAnalysis/data/diarizationExample.wav\u001b[0m*\n"
          ],
          "name": "stdout"
        }
      ]
    },
    {
      "cell_type": "code",
      "metadata": {
        "id": "ogco7m_luW-g",
        "colab_type": "code",
        "outputId": "5e7520c6-3d78-4536-9c36-6173a40b35fb",
        "colab": {
          "base_uri": "https://localhost:8080/",
          "height": 549
        }
      },
      "source": [
        "inputFile = \"pyAudioAnalysis/pyAudioAnalysis/data/diarizationExample.wav\"\n",
        "numSpeakers = 4\n",
        "aS.speaker_diarization(inputFile, numSpeakers, lda_dim=0, plot_res=True)"
      ],
      "execution_count": 0,
      "outputs": [
        {
          "output_type": "stream",
          "text": [
            "88.1\t88.1\n"
          ],
          "name": "stdout"
        },
        {
          "output_type": "display_data",
          "data": {
            "image/png": "[encoded data removed]",
            "text/plain": [
              "<Figure size 432x288 with 1 Axes>"
            ]
          },
          "metadata": {
            "tags": [],
            "needs_background": "light"
          }
        },
        {
          "output_type": "execute_result",
          "data": {
            "text/plain": [
              "array([3., 3., 3., 3., 3., 3., 3., 3., 3., 3., 3., 3., 3., 3., 3., 3., 3.,\n",
              "       3., 3., 3., 3., 3., 3., 3., 3., 3., 3., 3., 1., 1., 1., 1., 1., 1.,\n",
              "       1., 1., 1., 1., 1., 1., 1., 1., 1., 1., 1., 1., 1., 1., 1., 1., 0.,\n",
              "       0., 0., 0., 0., 0., 0., 0., 0., 0., 0., 0., 0., 0., 0., 0., 0., 0.,\n",
              "       0., 0., 0., 0., 0., 0., 0., 0., 0., 0., 1., 1., 1., 1., 1., 1., 1.,\n",
              "       1., 1., 0., 0., 0., 0., 0., 0., 0., 0., 0., 0., 0., 0., 0., 0., 0.,\n",
              "       0., 0., 0., 0., 0., 0., 0., 0., 0., 0., 0., 0., 0., 0., 0., 0., 0.,\n",
              "       0., 0., 0., 0., 0., 0., 0., 0., 0., 0., 0., 0., 0., 0., 0., 1., 1.,\n",
              "       1., 1., 1., 1., 1., 1., 1., 1., 1., 1., 1., 1., 1., 1., 1., 1., 1.,\n",
              "       1., 1., 1., 1., 1., 1., 1., 1., 1., 1., 1., 1., 1., 1., 1., 1., 1.,\n",
              "       2., 2., 2., 2., 2., 2., 2., 2., 2., 2., 2., 2., 2., 2., 2., 2., 2.,\n",
              "       2., 2., 2., 2., 2., 2., 2., 2., 2., 2., 2., 2., 2., 2., 2., 2., 2.,\n",
              "       2., 2., 2., 2., 2., 2.])"
            ]
          },
          "metadata": {
            "tags": []
          },
          "execution_count": 108
        }
      ]
    },
    {
      "cell_type": "markdown",
      "metadata": {
        "id": "RKpSry8hxxe4",
        "colab_type": "text"
      },
      "source": [
        "Η συνάρτηση παίρνει ως ορίσματα: -i <fileName>, --num <numberOfSpeakers (0 for unknown)>, --flsd (flag to enable FLsD method). Στο γράφημα που βλέπουμε παραπάνω, με κόκκινο είναι το ground-truth. Στο τίτλο του γραφήματος αναγράφονται και η ακρίβεια του αλγόριθμου."
      ]
    },
    {
      "cell_type": "markdown",
      "metadata": {
        "id": "qMobsWL7bsC-",
        "colab_type": "text"
      },
      "source": [
        "## Απεικόνιση ομοιότητας ήχων"
      ]
    },
    {
      "cell_type": "markdown",
      "metadata": {
        "id": "eaD-lahubvPw",
        "colab_type": "text"
      },
      "source": [
        "Η επόμενη λειτουργία εξάγει τα χαρακτηριστικά μεγάλης διάρκειας από αρχεία ήχων, εφαρμόζει τεχνική μείωσης διαστάσεων (dimensionality reduction) με PCA ή LDA (που είναι μια εποπτευόμενη [supervised] μέθοδος). Οι κλάσεις -στη δεύτερη περίπτωση= λαμβάνονται από το όνομα των αρχείων. Κοιτάξτε τα ονόματα στον κατάλογο sampleData:"
      ]
    },
    {
      "cell_type": "code",
      "metadata": {
        "id": "rGTVGcXrcEOe",
        "colab_type": "code",
        "outputId": "d74992ad-c1e2-4107-e3c2-7df00fe48c86",
        "colab": {
          "base_uri": "https://localhost:8080/",
          "height": 90
        }
      },
      "source": [
        "!ls sampleData"
      ],
      "execution_count": 131,
      "outputs": [
        {
          "output_type": "stream",
          "text": [
            "'Cat --- cat_11.wav'   'Cat --- cat_15.wav'\t 'Dog --- barking_14.wav'\n",
            "'Cat --- cat_12.wav'   'Dog --- barking_11.wav'  'Dog --- barking_15.wav'\n",
            "'Cat ---  cat_13.wav'  'Dog --- barking_12.wav'\n",
            "'Cat --- cat_14.wav'   'Dog --- barking_13.wav'\n"
          ],
          "name": "stdout"
        }
      ]
    },
    {
      "cell_type": "markdown",
      "metadata": {
        "id": "eIB30LwGcNVi",
        "colab_type": "text"
      },
      "source": [
        "Από τις μειωμένες διαστάσεις που προκύπτουν από την PCA/LDA, υπολογίζεται ένας πίνακας ομοιότητας και με κατωφλίωση προκύπτει ο γράφος ομοιότητας, που αναπαρίσταται σε ένα  διάγραμμα χορδών (chordial). \n",
        "Εδώ βλέπουμε το γράφο ομοιότητας σε δύο άξονες:"
      ]
    },
    {
      "cell_type": "code",
      "metadata": {
        "id": "W0PMiKAJc9Bb",
        "colab_type": "code",
        "outputId": "860fba65-4069-4ad6-bace-39a5aa70e435",
        "colab": {
          "base_uri": "https://localhost:8080/",
          "height": 465
        }
      },
      "source": [
        "from pyAudioAnalysis import audioVisualization as aV\n",
        "aV.visualizeFeaturesFolder(\"sampleData/\", \"pca\", \"\")"
      ],
      "execution_count": 141,
      "outputs": [
        {
          "output_type": "stream",
          "text": [
            "Analyzing file 1 of 10: sampleData/Cat ---  cat_13.wav\n",
            "Analyzing file 2 of 10: sampleData/Cat --- cat_11.wav\n",
            "Analyzing file 3 of 10: sampleData/Cat --- cat_12.wav\n",
            "Analyzing file 4 of 10: sampleData/Cat --- cat_14.wav\n",
            "Analyzing file 5 of 10: sampleData/Cat --- cat_15.wav\n",
            "Analyzing file 6 of 10: sampleData/Dog --- barking_11.wav\n",
            "Analyzing file 7 of 10: sampleData/Dog --- barking_12.wav\n",
            "Analyzing file 8 of 10: sampleData/Dog --- barking_13.wav\n",
            "Analyzing file 9 of 10: sampleData/Dog --- barking_14.wav\n",
            "Analyzing file 10 of 10: sampleData/Dog --- barking_15.wav\n",
            "Feature extraction complexity ratio: 14.3 x realtime\n"
          ],
          "name": "stdout"
        },
        {
          "output_type": "display_data",
          "data": {
            "image/png": "[encoded data removed]",
            "text/plain": [
              "<Figure size 432x288 with 1 Axes>"
            ]
          },
          "metadata": {
            "tags": [],
            "needs_background": "light"
          }
        }
      ]
    },
    {
      "cell_type": "markdown",
      "metadata": {
        "id": "hxr7UNZr46nK",
        "colab_type": "text"
      },
      "source": [
        "Κοιτάξτε το περιεχόμενο των καταλόγων visualization_* που δημιουργήθηκαν:"
      ]
    },
    {
      "cell_type": "code",
      "metadata": {
        "id": "FmjCAmk228CP",
        "colab_type": "code",
        "outputId": "1bade1a7-87fe-432e-f474-c3e2188ef8f6",
        "colab": {
          "base_uri": "https://localhost:8080/",
          "height": 253
        }
      },
      "source": [
        "# !rm -rf visualization*\n",
        "!ls -la "
      ],
      "execution_count": 142,
      "outputs": [
        {
          "output_type": "stream",
          "text": [
            "total 48\n",
            "drwxr-xr-x 1 root root 4096 May  3 09:56 .\n",
            "drwxr-xr-x 1 root root 4096 May  3 05:42 ..\n",
            "drwxr-xr-x 1 root root 4096 Apr 29 16:14 .config\n",
            "drwxr-xr-x 2 root root 4096 May  3 06:29 models\n",
            "drwxr-xr-x 6 root root 4096 May  3 05:47 pyAudioAnalysis\n",
            "drwxr-xr-x 1 root root 4096 Apr  3 16:24 sample_data\n",
            "drwxr-xr-x 2 root root 4096 May  3 05:47 sampleData\n",
            "drwxr-xr-x 2 root root 4096 May  3 07:25 tmp\n",
            "drwxr-xr-x 4 root root 4096 May  3 05:47 trainingData\n",
            "drwxr-xr-x 2 root root 4096 May  3 09:56 visualization_Chordial\n",
            "drwxr-xr-x 2 root root 4096 May  3 09:56 visualizationGroup_Chordial\n",
            "drwxr-xr-x 2 root root 4096 May  3 09:56 visualizationInitial_Chordial\n"
          ],
          "name": "stdout"
        }
      ]
    },
    {
      "cell_type": "code",
      "metadata": {
        "id": "fbTLfm263-xr",
        "colab_type": "code",
        "outputId": "ec9883ea-b405-41c1-b60e-949dfc3c6a3d",
        "colab": {
          "resources": {
            "http://localhost:8080/style.css": {
              "data": "CjwhRE9DVFlQRSBodG1sPgo8aHRtbCBsYW5nPWVuPgogIDxtZXRhIGNoYXJzZXQ9dXRmLTg+CiAgPG1ldGEgbmFtZT12aWV3cG9ydCBjb250ZW50PSJpbml0aWFsLXNjYWxlPTEsIG1pbmltdW0tc2NhbGU9MSwgd2lkdGg9ZGV2aWNlLXdpZHRoIj4KICA8dGl0bGU+RXJyb3IgNDA0IChOb3QgRm91bmQpISExPC90aXRsZT4KICA8c3R5bGU+CiAgICAqe21hcmdpbjowO3BhZGRpbmc6MH1odG1sLGNvZGV7Zm9udDoxNXB4LzIycHggYXJpYWwsc2Fucy1zZXJpZn1odG1se2JhY2tncm91bmQ6I2ZmZjtjb2xvcjojMjIyO3BhZGRpbmc6MTVweH1ib2R5e21hcmdpbjo3JSBhdXRvIDA7bWF4LXdpZHRoOjM5MHB4O21pbi1oZWlnaHQ6MTgwcHg7cGFkZGluZzozMHB4IDAgMTVweH0qID4gYm9keXtiYWNrZ3JvdW5kOnVybCgvL3d3dy5nb29nbGUuY29tL2ltYWdlcy9lcnJvcnMvcm9ib3QucG5nKSAxMDAlIDVweCBuby1yZXBlYXQ7cGFkZGluZy1yaWdodDoyMDVweH1we21hcmdpbjoxMXB4IDAgMjJweDtvdmVyZmxvdzpoaWRkZW59aW5ze2NvbG9yOiM3Nzc7dGV4dC1kZWNvcmF0aW9uOm5vbmV9YSBpbWd7Ym9yZGVyOjB9QG1lZGlhIHNjcmVlbiBhbmQgKG1heC13aWR0aDo3NzJweCl7Ym9keXtiYWNrZ3JvdW5kOm5vbmU7bWFyZ2luLXRvcDowO21heC13aWR0aDpub25lO3BhZGRpbmctcmlnaHQ6MH19I2xvZ297YmFja2dyb3VuZDp1cmwoLy93d3cuZ29vZ2xlLmNvbS9pbWFnZXMvbG9nb3MvZXJyb3JwYWdlL2Vycm9yX2xvZ28tMTUweDU0LnBuZykgbm8tcmVwZWF0O21hcmdpbi1sZWZ0Oi01cHh9QG1lZGlhIG9ubHkgc2NyZWVuIGFuZCAobWluLXJlc29sdXRpb246MTkyZHBpKXsjbG9nb3tiYWNrZ3JvdW5kOnVybCgvL3d3dy5nb29nbGUuY29tL2ltYWdlcy9sb2dvcy9lcnJvcnBhZ2UvZXJyb3JfbG9nby0xNTB4NTQtMngucG5nKSBuby1yZXBlYXQgMCUgMCUvMTAwJSAxMDAlOy1tb3otYm9yZGVyLWltYWdlOnVybCgvL3d3dy5nb29nbGUuY29tL2ltYWdlcy9sb2dvcy9lcnJvcnBhZ2UvZXJyb3JfbG9nby0xNTB4NTQtMngucG5nKSAwfX1AbWVkaWEgb25seSBzY3JlZW4gYW5kICgtd2Via2l0LW1pbi1kZXZpY2UtcGl4ZWwtcmF0aW86Mil7I2xvZ297YmFja2dyb3VuZDp1cmwoLy93d3cuZ29vZ2xlLmNvbS9pbWFnZXMvbG9nb3MvZXJyb3JwYWdlL2Vycm9yX2xvZ28tMTUweDU0LTJ4LnBuZykgbm8tcmVwZWF0Oy13ZWJraXQtYmFja2dyb3VuZC1zaXplOjEwMCUgMTAwJX19I2xvZ297ZGlzcGxheTppbmxpbmUtYmxvY2s7aGVpZ2h0OjU0cHg7d2lkdGg6MTUwcHh9CiAgPC9zdHlsZT4KICA8YSBocmVmPS8vd3d3Lmdvb2dsZS5jb20vPjxzcGFuIGlkPWxvZ28gYXJpYS1sYWJlbD1Hb29nbGU+PC9zcGFuPjwvYT4KICA8cD48Yj40MDQuPC9iPiA8aW5zPlRoYXTigJlzIGFuIGVycm9yLjwvaW5zPgogIDxwPiAgPGlucz5UaGF04oCZcyBhbGwgd2Uga25vdy48L2lucz4K",
              "ok": false,
              "headers": [
                [
                  "content-length",
                  "1449"
                ],
                [
                  "content-type",
                  "text/html; charset=utf-8"
                ]
              ],
              "status": 404,
              "status_text": "Not Found"
            }
          },
          "base_uri": "https://localhost:8080/",
          "height": 17
        }
      },
      "source": [
        "# import IPython\n",
        "# IPython.display.HTML(filename='visualization_Chordial/similarities.html')"
      ],
      "execution_count": 0,
      "outputs": [
        {
          "output_type": "execute_result",
          "data": {
            "text/html": [
              "<!DOCTYPE html>\n",
              "<meta charset=\"utf-8\">\n",
              "<title>Similarities Visualization</title>\n",
              "<style>\n",
              "\n",
              "@import url(style.css);\n",
              " \n",
              "#circle circle {\n",
              "fill: none;\n",
              "pointer-events: all;\n",
              "}\n",
              " \n",
              ".group path {\n",
              "fill-opacity: .5;\n",
              "}\n",
              " \n",
              "path.chord {\n",
              "stroke: #000;\n",
              "stroke-width: .25px;\n",
              "}\n",
              " \n",
              "#circle:hover path.fade {\n",
              "display: none;\n",
              "}\n",
              " \n",
              "</style>\n",
              " \n",
              "<header>\n",
              "\n",
              "</header>\n",
              "\n",
              "\n",
              " \n",
              "<script src=\"http://d3js.org/d3.v2.min.js?2.8.1\"></script>\n",
              "<script>\n",
              " \n",
              "var width = 900,\n",
              "height = 900,\n",
              "outerRadius = Math.min(width, height) / 2 - 150, // make a bit smaller so that text doesn't crop\n",
              "innerRadius = outerRadius - 10;\n",
              " \n",
              "var formatPercent = d3.format(\".1f%\");\n",
              " \n",
              "var arc = d3.svg.arc()\n",
              ".innerRadius(innerRadius)\n",
              ".outerRadius(outerRadius);\n",
              " \n",
              "var layout = d3.layout.chord()\n",
              ".padding(.04)\n",
              ".sortSubgroups(d3.descending)\n",
              ".sortChords(d3.ascending);\n",
              " \n",
              "var path = d3.svg.chord()\n",
              ".radius(innerRadius);\n",
              " \n",
              "var svg = d3.select(\"body\").append(\"svg\")\n",
              ".attr(\"width\", width)\n",
              ".attr(\"height\", height)\n",
              ".append(\"g\")\n",
              ".attr(\"id\", \"circle\")\n",
              ".attr(\"transform\", \"translate(\" + (width / 2) + \",\" + (height / 2) + \")\"); // leave some more slack\n",
              " \n",
              "svg.append(\"circle\")\n",
              ".attr(\"r\", outerRadius);\n",
              " \n",
              "d3.csv(\"Names.csv\", function(cities) {\n",
              "d3.json(\"matrix.json\", function(matrix) {\n",
              " \n",
              "// Compute the chord layout.\n",
              "layout.matrix(matrix);\n",
              " \n",
              "// Add a group per neighborhood.\n",
              "var group = svg.selectAll(\".group\")\n",
              ".data(layout.groups)\n",
              ".enter().append(\"g\")\n",
              ".attr(\"class\", \"group\")\n",
              ".on(\"mouseover\", mouseover);\n",
              " \n",
              "// Add a mouseover title.\n",
              " group.append(\"title\").text(function(d, i) {\n",
              " return cities[i].name + \": \" + formatPercent(d.value) + \" \";\n",
              " });\n",
              " \n",
              "// Add the group arc.\n",
              "var groupPath = group.append(\"path\")\n",
              ".attr(\"id\", function(d, i) { return \"group\" + i; })\n",
              ".attr(\"d\", arc)\n",
              ".style(\"fill\", function(d, i) { return cities[i].color; });\n",
              " \n",
              "// Add a text label.\n",
              "/*\n",
              "var groupText = group.append(\"text\")\n",
              ".attr(\"x\", 6)\n",
              ".attr(\"dy\", 15);\n",
              " \n",
              "groupText.append(\"textPath\")\n",
              ".attr(\"xlink:href\", function(d, i) { return \"#group\" + i; })\n",
              ".text(function(d, i) { if (cities[i].name.split(\" --- \").length > 1) return cities[i].name.split(\" --- \")[1]; else return cities[i].name; });\n",
              " \n",
              "// Remove the labels that don't fit. :(\n",
              "groupText.filter(function(d, i) { return groupPath[0][i].getTotalLength() / 2 - 16 < this.getComputedTextLength(); })\n",
              ".remove();\n",
              "*/\n",
              "  \n",
              "      var groupText = group.append(\"text\")\n",
              "      .each(function(d) {\n",
              "        d.angle = 0.5 * (d.startAngle + d.endAngle);            // The angle of the label\n",
              "      })\n",
              "      .attr(\"dy\", \"1em\")                                        // ... or anything really\n",
              "      .attr(\"transform\", function(d) {\n",
              "        return \"rotate(\" + (d.angle*180 / Math.PI - 90) + \")\" + // rotate the text according to the angle\n",
              "          \"translate(\" + (outerRadius + 10) + \")\" +             // move it outside the graph\n",
              "          (d.angle > Math.PI ? \"rotate(180)\" : \"\");             // make readable\n",
              "      })\n",
              "      .style(\"text-anchor\", function(d) {\n",
              "        return d.angle > Math.PI ? \"end\" : null;                // make readable pt. II\n",
              "      })\n",
              "      .text(function(d, i) {                                    // name same as previously\n",
              "        if (cities[i].name.split(\" --- \").length > 1) \n",
              "            return cities[i].name.split(\" --- \")[1]; \n",
              "        else return cities[i].name; \n",
              "    });\n",
              "  \n",
              "  \n",
              "  \n",
              "\n",
              " \n",
              "// Add the chords.\n",
              "var chord = svg.selectAll(\".chord\")\n",
              ".data(layout.chords)\n",
              ".enter().append(\"path\")\n",
              ".attr(\"class\", \"chord\")\n",
              ".style(\"fill\", function(d) { return cities[d.source.index].color; })\n",
              ".attr(\"d\", path);\n",
              " \n",
              "// Add an elaborate mouseover title for each chord.\n",
              " chord.append(\"title\").text(function(d) {\n",
              " return cities[d.source.index].name\n",
              " + \" → \" + cities[d.target.index].name\n",
              " + \": \" + formatPercent(d.source.value)\n",
              " + \"\\n\" + cities[d.target.index].name\n",
              " + \" → \" + cities[d.source.index].name\n",
              " + \": \" + formatPercent(d.target.value);\n",
              " });\n",
              " \n",
              "function mouseover(d, i) {\n",
              "chord.classed(\"fade\", function(p) {\n",
              "return p.source.index != i\n",
              "&& p.target.index != i;\n",
              "});\n",
              "}\n",
              "});\n",
              "});\n",
              " \n",
              "</script>\n",
              " \n"
            ],
            "text/plain": [
              "<IPython.core.display.HTML object>"
            ]
          },
          "metadata": {
            "tags": []
          },
          "execution_count": 121
        }
      ]
    },
    {
      "cell_type": "code",
      "metadata": {
        "id": "tWrISsUG7iIR",
        "colab_type": "code",
        "colab": {
          "base_uri": "https://localhost:8080/",
          "height": 35
        },
        "outputId": "38a86a66-8c2e-411a-b6be-c677daa16fed"
      },
      "source": [
        "import shutil\n",
        "shutil.make_archive(\"/tmp/chor\", 'zip', \"visualizationInitial_Chordial\")"
      ],
      "execution_count": 143,
      "outputs": [
        {
          "output_type": "execute_result",
          "data": {
            "text/plain": [
              "'/tmp/chor.zip'"
            ]
          },
          "metadata": {
            "tags": []
          },
          "execution_count": 143
        }
      ]
    },
    {
      "cell_type": "code",
      "metadata": {
        "id": "iyAobR806pja",
        "colab_type": "code",
        "colab": {}
      },
      "source": [
        "from google.colab import files\n",
        "files.download('/tmp/chor.zip')"
      ],
      "execution_count": 0,
      "outputs": []
    },
    {
      "cell_type": "markdown",
      "metadata": {
        "id": "DwZj2GJ4dzNx",
        "colab_type": "text"
      },
      "source": [
        "## Coding Task"
      ]
    },
    {
      "cell_type": "markdown",
      "metadata": {
        "id": "IlPWKfRdd1QX",
        "colab_type": "text"
      },
      "source": [
        "Η ακρίβεια του ταξινομητή που φτιάξαμε προηγουμένως δεν είναι ιδιαίτερα καλή, στο περιορισμένο εύρος εκπαίδευσης που είχαμε διαθέσιμο. Μπορείτε να φτιάξετε ένα πρόγραμμα σε python, που να εκμεταλλεύεται την Αφαίρεση Σιγής και να παράγει ένα μοντέλο με καλύτερες αποδόσεις;"
      ]
    }
  ]
}